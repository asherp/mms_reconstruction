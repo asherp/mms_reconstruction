{
 "cells": [
  {
   "cell_type": "markdown",
   "metadata": {},
   "source": [
    "# Denton Analysis Tool\n",
    "\n",
    "The `Denton` Analysis Tool may be used on MMS data to contrust 3d magnetic field vectors.\n",
    "\n",
    "The main interface is the `Denton` object, which is a subclass of `Kamodo`, a CCMC tool\n",
    "that provides a functional interface for space weather models and data.\n"
   ]
  },
  {
   "cell_type": "code",
   "execution_count": 1,
   "metadata": {},
   "outputs": [
    {
     "name": "stdout",
     "output_type": "stream",
     "text": [
      "/Users/apembrok/git/mms/AsherCode\n"
     ]
    }
   ],
   "source": [
    "cd AsherCode"
   ]
  },
  {
   "cell_type": "code",
   "execution_count": 2,
   "metadata": {},
   "outputs": [
    {
     "name": "stderr",
     "output_type": "stream",
     "text": [
      "/Users/apembrok/miniconda4/envs/mms/lib/python3.7/site-packages/kamodo-0.0.2-py3.7.egg/kamodo/readers/__init__.py:7: UserWarning:\n",
      "\n",
      "TIEGCM reader not installed\n",
      "\n"
     ]
    },
    {
     "name": "stdout",
     "output_type": "stream",
     "text": [
      "warning: Matlab-style short-circuit operation performed for operator &\n"
     ]
    },
    {
     "data": {
      "text/latex": [
       "\\begin{equation}\\vec{\\lambda}{\\left(t \\right)} = \\lambda{\\left(t \\right)}\\end{equation}\\begin{equation}\\vec{x}_{1}{\\left(t \\right)} = \\lambda{\\left(t \\right)}\\end{equation}\\begin{equation}\\vec{x}_{2}{\\left(t \\right)} = \\lambda{\\left(t \\right)}\\end{equation}\\begin{equation}\\vec{x}_{3}{\\left(t \\right)} = \\lambda{\\left(t \\right)}\\end{equation}\\begin{equation}\\vec{x}_{4}{\\left(t \\right)} = \\lambda{\\left(t \\right)}\\end{equation}\\begin{equation}\\vec{e}_{l}{\\left(t \\right)} = \\lambda{\\left(t \\right)}\\end{equation}\\begin{equation}\\vec{e}_{m}{\\left(t \\right)} = \\lambda{\\left(t \\right)}\\end{equation}\\begin{equation}\\vec{e}_{n}{\\left(t \\right)} = \\lambda{\\left(t \\right)}\\end{equation}$$\\vec{B}_{c} [nT] = \\sum_i \\vec{B}_i /4$$\\begin{equation}\\vec{B}_{1}{\\left(t \\right)} [nT] = \\lambda{\\left(t \\right)}\\end{equation}\\begin{equation}\\vec{B}_{2}{\\left(t \\right)} [nT] = \\lambda{\\left(t \\right)}\\end{equation}\\begin{equation}\\vec{B}_{3}{\\left(t \\right)} [nT] = \\lambda{\\left(t \\right)}\\end{equation}\\begin{equation}\\vec{B}_{4}{\\left(t \\right)} [nT] = \\lambda{\\left(t \\right)}\\end{equation}$$\\hat{\\vec{B}}_{c} [nT] = \\sum_i \\hat{\\vec{B}}_i /4$$\\begin{equation}\\hat{\\vec{B}}_{1}{\\left(t \\right)} [nT] = \\lambda{\\left(t \\right)}\\end{equation}\\begin{equation}\\hat{\\vec{B}}_{2}{\\left(t \\right)} [nT] = \\lambda{\\left(t \\right)}\\end{equation}\\begin{equation}\\hat{\\vec{B}}_{3}{\\left(t \\right)} [nT] = \\lambda{\\left(t \\right)}\\end{equation}\\begin{equation}\\hat{\\vec{B}}_{4}{\\left(t \\right)} [nT] = \\lambda{\\left(t \\right)}\\end{equation}$$\\vec{J}_{c} = \\sum_i \\vec{J}_i /4$$\\begin{equation}\\vec{J}_{1}{\\left(t \\right)} = \\lambda{\\left(t \\right)}\\end{equation}\\begin{equation}\\vec{J}_{2}{\\left(t \\right)} = \\lambda{\\left(t \\right)}\\end{equation}\\begin{equation}\\vec{J}_{3}{\\left(t \\right)} = \\lambda{\\left(t \\right)}\\end{equation}\\begin{equation}\\vec{J}_{4}{\\left(t \\right)} = \\lambda{\\left(t \\right)}\\end{equation}\\begin{equation}\\hat{\\vec{J}}_{c}{\\left(t \\right)} = \\lambda{\\left(t \\right)}\\end{equation}\\begin{equation}\\hat{\\vec{J}}_{1}{\\left(t \\right)} = \\lambda{\\left(t \\right)}\\end{equation}\\begin{equation}\\hat{\\vec{J}}_{2}{\\left(t \\right)} = \\lambda{\\left(t \\right)}\\end{equation}\\begin{equation}\\hat{\\vec{J}}_{3}{\\left(t \\right)} = \\lambda{\\left(t \\right)}\\end{equation}\\begin{equation}\\hat{\\vec{J}}_{4}{\\left(t \\right)} = \\lambda{\\left(t \\right)}\\end{equation}\\begin{equation}\\vec{B}{\\left(\\vec{x},t \\right)} = \\lambda{\\left(\\vec{x},t \\right)}\\end{equation}"
      ],
      "text/plain": [
       "Denton([(lambdavec(t),\n",
       "         <function Denton.Denton.register_field.<locals>.f(t=array([31.   , 31.001, 31.002, ..., 35.498, 35.499, 35.5  ]))>),\n",
       "        (lambdavec,\n",
       "         <function Denton.Denton.register_field.<locals>.f(t=array([31.   , 31.001, 31.002, ..., 35.498, 35.499, 35.5  ]))>),\n",
       "        (xvec_1(t),\n",
       "         <function Denton.Denton.register_field.<locals>.f(t=array([31.   , 31.001, 31.002, ..., 35.498, 35.499, 35.5  ]))>),\n",
       "        (xvec_1,\n",
       "         <function Denton.Denton.register_field.<locals>.f(t=array([31.   , 31.001, 31.002, ..., 35.498, 35.499, 35.5  ]))>),\n",
       "        (xvec_2(t),\n",
       "         <function Denton.Denton.register_field.<locals>.f(t=array([31.   , 31.001, 31.002, ..., 35.498, 35.499, 35.5  ]))>),\n",
       "        (xvec_2,\n",
       "         <function Denton.Denton.register_field.<locals>.f(t=array([31.   , 31.001, 31.002, ..., 35.498, 35.499, 35.5  ]))>),\n",
       "        (xvec_3(t),\n",
       "         <function Denton.Denton.register_field.<locals>.f(t=array([31.   , 31.001, 31.002, ..., 35.498, 35.499, 35.5  ]))>),\n",
       "        (xvec_3,\n",
       "         <function Denton.Denton.register_field.<locals>.f(t=array([31.   , 31.001, 31.002, ..., 35.498, 35.499, 35.5  ]))>),\n",
       "        (xvec_4(t),\n",
       "         <function Denton.Denton.register_field.<locals>.f(t=array([31.   , 31.001, 31.002, ..., 35.498, 35.499, 35.5  ]))>),\n",
       "        (xvec_4,\n",
       "         <function Denton.Denton.register_field.<locals>.f(t=array([31.   , 31.001, 31.002, ..., 35.498, 35.499, 35.5  ]))>),\n",
       "        (evec_l(t),\n",
       "         <function Denton.Denton.register_field.<locals>.f(t=array([31.   , 31.001, 31.002, ..., 35.498, 35.499, 35.5  ]))>),\n",
       "        (evec_l,\n",
       "         <function Denton.Denton.register_field.<locals>.f(t=array([31.   , 31.001, 31.002, ..., 35.498, 35.499, 35.5  ]))>),\n",
       "        (evec_m(t),\n",
       "         <function Denton.Denton.register_field.<locals>.f(t=array([31.   , 31.001, 31.002, ..., 35.498, 35.499, 35.5  ]))>),\n",
       "        (evec_m,\n",
       "         <function Denton.Denton.register_field.<locals>.f(t=array([31.   , 31.001, 31.002, ..., 35.498, 35.499, 35.5  ]))>),\n",
       "        (evec_n(t),\n",
       "         <function Denton.Denton.register_field.<locals>.f(t=array([31.   , 31.001, 31.002, ..., 35.498, 35.499, 35.5  ]))>),\n",
       "        (evec_n,\n",
       "         <function Denton.Denton.register_field.<locals>.f(t=array([31.   , 31.001, 31.002, ..., 35.498, 35.499, 35.5  ]))>),\n",
       "        (Bvec_c(t),\n",
       "         <function Denton.Denton.register_field.<locals>.f(t=array([31.   , 31.001, 31.002, ..., 35.498, 35.499, 35.5  ]))>),\n",
       "        (Bvec_c,\n",
       "         <function Denton.Denton.register_field.<locals>.f(t=array([31.   , 31.001, 31.002, ..., 35.498, 35.499, 35.5  ]))>),\n",
       "        (Bvec_1(t),\n",
       "         <function Denton.Denton.register_field.<locals>.f(t=array([31.   , 31.001, 31.002, ..., 35.498, 35.499, 35.5  ]))>),\n",
       "        (Bvec_1,\n",
       "         <function Denton.Denton.register_field.<locals>.f(t=array([31.   , 31.001, 31.002, ..., 35.498, 35.499, 35.5  ]))>),\n",
       "        (Bvec_2(t),\n",
       "         <function Denton.Denton.register_field.<locals>.f(t=array([31.   , 31.001, 31.002, ..., 35.498, 35.499, 35.5  ]))>),\n",
       "        (Bvec_2,\n",
       "         <function Denton.Denton.register_field.<locals>.f(t=array([31.   , 31.001, 31.002, ..., 35.498, 35.499, 35.5  ]))>),\n",
       "        (Bvec_3(t),\n",
       "         <function Denton.Denton.register_field.<locals>.f(t=array([31.   , 31.001, 31.002, ..., 35.498, 35.499, 35.5  ]))>),\n",
       "        (Bvec_3,\n",
       "         <function Denton.Denton.register_field.<locals>.f(t=array([31.   , 31.001, 31.002, ..., 35.498, 35.499, 35.5  ]))>),\n",
       "        (Bvec_4(t),\n",
       "         <function Denton.Denton.register_field.<locals>.f(t=array([31.   , 31.001, 31.002, ..., 35.498, 35.499, 35.5  ]))>),\n",
       "        (Bvec_4,\n",
       "         <function Denton.Denton.register_field.<locals>.f(t=array([31.   , 31.001, 31.002, ..., 35.498, 35.499, 35.5  ]))>),\n",
       "        (Bvechat_c(t),\n",
       "         <function Denton.Denton.register_field.<locals>.f(t=array([31.   , 31.001, 31.002, ..., 35.498, 35.499, 35.5  ]))>),\n",
       "        (Bvechat_c,\n",
       "         <function Denton.Denton.register_field.<locals>.f(t=array([31.   , 31.001, 31.002, ..., 35.498, 35.499, 35.5  ]))>),\n",
       "        (Bvechat_1(t),\n",
       "         <function Denton.Denton.register_field.<locals>.f(t=array([31.   , 31.001, 31.002, ..., 35.498, 35.499, 35.5  ]))>),\n",
       "        (Bvechat_1,\n",
       "         <function Denton.Denton.register_field.<locals>.f(t=array([31.   , 31.001, 31.002, ..., 35.498, 35.499, 35.5  ]))>),\n",
       "        (Bvechat_2(t),\n",
       "         <function Denton.Denton.register_field.<locals>.f(t=array([31.   , 31.001, 31.002, ..., 35.498, 35.499, 35.5  ]))>),\n",
       "        (Bvechat_2,\n",
       "         <function Denton.Denton.register_field.<locals>.f(t=array([31.   , 31.001, 31.002, ..., 35.498, 35.499, 35.5  ]))>),\n",
       "        (Bvechat_3(t),\n",
       "         <function Denton.Denton.register_field.<locals>.f(t=array([31.   , 31.001, 31.002, ..., 35.498, 35.499, 35.5  ]))>),\n",
       "        (Bvechat_3,\n",
       "         <function Denton.Denton.register_field.<locals>.f(t=array([31.   , 31.001, 31.002, ..., 35.498, 35.499, 35.5  ]))>),\n",
       "        (Bvechat_4(t),\n",
       "         <function Denton.Denton.register_field.<locals>.f(t=array([31.   , 31.001, 31.002, ..., 35.498, 35.499, 35.5  ]))>),\n",
       "        (Bvechat_4,\n",
       "         <function Denton.Denton.register_field.<locals>.f(t=array([31.   , 31.001, 31.002, ..., 35.498, 35.499, 35.5  ]))>),\n",
       "        (Jvec_c(t),\n",
       "         <function Denton.Denton.register_field.<locals>.f(t=array([31.   , 31.001, 31.002, ..., 35.498, 35.499, 35.5  ]))>),\n",
       "        (Jvec_c,\n",
       "         <function Denton.Denton.register_field.<locals>.f(t=array([31.   , 31.001, 31.002, ..., 35.498, 35.499, 35.5  ]))>),\n",
       "        (Jvec_1(t),\n",
       "         <function Denton.Denton.register_field.<locals>.f(t=array([31.   , 31.001, 31.002, ..., 35.498, 35.499, 35.5  ]))>),\n",
       "        (Jvec_1,\n",
       "         <function Denton.Denton.register_field.<locals>.f(t=array([31.   , 31.001, 31.002, ..., 35.498, 35.499, 35.5  ]))>),\n",
       "        (Jvec_2(t),\n",
       "         <function Denton.Denton.register_field.<locals>.f(t=array([31.   , 31.001, 31.002, ..., 35.498, 35.499, 35.5  ]))>),\n",
       "        (Jvec_2,\n",
       "         <function Denton.Denton.register_field.<locals>.f(t=array([31.   , 31.001, 31.002, ..., 35.498, 35.499, 35.5  ]))>),\n",
       "        (Jvec_3(t),\n",
       "         <function Denton.Denton.register_field.<locals>.f(t=array([31.   , 31.001, 31.002, ..., 35.498, 35.499, 35.5  ]))>),\n",
       "        (Jvec_3,\n",
       "         <function Denton.Denton.register_field.<locals>.f(t=array([31.   , 31.001, 31.002, ..., 35.498, 35.499, 35.5  ]))>),\n",
       "        (Jvec_4(t),\n",
       "         <function Denton.Denton.register_field.<locals>.f(t=array([31.   , 31.001, 31.002, ..., 35.498, 35.499, 35.5  ]))>),\n",
       "        (Jvec_4,\n",
       "         <function Denton.Denton.register_field.<locals>.f(t=array([31.   , 31.001, 31.002, ..., 35.498, 35.499, 35.5  ]))>),\n",
       "        (Jvechat_c(t),\n",
       "         <function Denton.Denton.register_field.<locals>.f(t=array([31.   , 31.001, 31.002, ..., 35.498, 35.499, 35.5  ]))>),\n",
       "        (Jvechat_c,\n",
       "         <function Denton.Denton.register_field.<locals>.f(t=array([31.   , 31.001, 31.002, ..., 35.498, 35.499, 35.5  ]))>),\n",
       "        (Jvechat_1(t),\n",
       "         <function Denton.Denton.register_field.<locals>.f(t=array([31.   , 31.001, 31.002, ..., 35.498, 35.499, 35.5  ]))>),\n",
       "        (Jvechat_1,\n",
       "         <function Denton.Denton.register_field.<locals>.f(t=array([31.   , 31.001, 31.002, ..., 35.498, 35.499, 35.5  ]))>),\n",
       "        (Jvechat_2(t),\n",
       "         <function Denton.Denton.register_field.<locals>.f(t=array([31.   , 31.001, 31.002, ..., 35.498, 35.499, 35.5  ]))>),\n",
       "        (Jvechat_2,\n",
       "         <function Denton.Denton.register_field.<locals>.f(t=array([31.   , 31.001, 31.002, ..., 35.498, 35.499, 35.5  ]))>),\n",
       "        (Jvechat_3(t),\n",
       "         <function Denton.Denton.register_field.<locals>.f(t=array([31.   , 31.001, 31.002, ..., 35.498, 35.499, 35.5  ]))>),\n",
       "        (Jvechat_3,\n",
       "         <function Denton.Denton.register_field.<locals>.f(t=array([31.   , 31.001, 31.002, ..., 35.498, 35.499, 35.5  ]))>),\n",
       "        (Jvechat_4(t),\n",
       "         <function Denton.Denton.register_field.<locals>.f(t=array([31.   , 31.001, 31.002, ..., 35.498, 35.499, 35.5  ]))>),\n",
       "        (Jvechat_4,\n",
       "         <function Denton.Denton.register_field.<locals>.f(t=array([31.   , 31.001, 31.002, ..., 35.498, 35.499, 35.5  ]))>),\n",
       "        (Bvec(xvec, t),\n",
       "         <function Denton.Denton.register_spatial.<locals>.Bvec(xvec=array([[-3. , -3. , -3. ],\n",
       "       [-3. , -3. , -2.4],\n",
       "       [-3. , -3. , -1.8],\n",
       "       ...,\n",
       "       [ 3. ,  3. ,  1.8],\n",
       "       [ 3. ,  3. ,  2.4],\n",
       "       [ 3. ,  3. ,  3. ]]), t=31.000000000000004)>),\n",
       "        (Bvec,\n",
       "         <function Denton.Denton.register_spatial.<locals>.Bvec(xvec=array([[-3. , -3. , -3. ],\n",
       "       [-3. , -3. , -2.4],\n",
       "       [-3. , -3. , -1.8],\n",
       "       ...,\n",
       "       [ 3. ,  3. ,  1.8],\n",
       "       [ 3. ,  3. ,  2.4],\n",
       "       [ 3. ,  3. ,  3. ]]), t=31.000000000000004)>)])"
      ]
     },
     "execution_count": 2,
     "metadata": {},
     "output_type": "execute_result"
    }
   ],
   "source": [
    "from Denton import Denton\n",
    "\n",
    "sDirData = \"/Users/apembrok/git/mms/AsherCode/\"\n",
    "\n",
    "denton = Denton(sDirData=sDirData, solve = True)\n",
    "denton"
   ]
  },
  {
   "cell_type": "markdown",
   "metadata": {},
   "source": [
    "# Fieldline visualization\n",
    "\n",
    "To visualize field lines, we need to solve the initial value problem on $\\vec{B}(\\vec{x},t)$ given an initial set of seeds points.\n",
    "\n",
    "## Variable selection\n",
    "\n",
    "First we'll construct a new kamodo instance so we can focus on just the field manipulation"
   ]
  },
  {
   "cell_type": "code",
   "execution_count": 3,
   "metadata": {},
   "outputs": [],
   "source": [
    "from kamodo import Kamodo"
   ]
  },
  {
   "cell_type": "code",
   "execution_count": 4,
   "metadata": {},
   "outputs": [
    {
     "data": {
      "text/latex": [
       "\\begin{equation}\\vec{B}{\\left(\\vec{x},t \\right)} = \\lambda{\\left(\\vec{x},t \\right)}\\end{equation}"
      ],
      "text/plain": [
       "Kamodo([(Bvec(xvec, t),\n",
       "         <function Denton.Denton.register_spatial.<locals>.Bvec(xvec=array([[-3. , -3. , -3. ],\n",
       "       [-3. , -3. , -2.4],\n",
       "       [-3. , -3. , -1.8],\n",
       "       ...,\n",
       "       [ 3. ,  3. ,  1.8],\n",
       "       [ 3. ,  3. ,  2.4],\n",
       "       [ 3. ,  3. ,  3. ]]), t=31.000000000000004)>),\n",
       "        (Bvec,\n",
       "         <function Denton.Denton.register_spatial.<locals>.Bvec(xvec=array([[-3. , -3. , -3. ],\n",
       "       [-3. , -3. , -2.4],\n",
       "       [-3. , -3. , -1.8],\n",
       "       ...,\n",
       "       [ 3. ,  3. ,  1.8],\n",
       "       [ 3. ,  3. ,  2.4],\n",
       "       [ 3. ,  3. ,  3. ]]), t=31.000000000000004)>)])"
      ]
     },
     "execution_count": 4,
     "metadata": {},
     "output_type": "execute_result"
    }
   ],
   "source": [
    "fields = Kamodo(Bvec = denton.Bvec)\n",
    "fields"
   ]
  },
  {
   "cell_type": "markdown",
   "metadata": {},
   "source": [
    "## Time selection\n",
    "\n",
    "Since we are tracing in space and not time, we need a function of the field in time.\n"
   ]
  },
  {
   "cell_type": "code",
   "execution_count": 33,
   "metadata": {},
   "outputs": [],
   "source": [
    "t0 = 32.91"
   ]
  },
  {
   "cell_type": "code",
   "execution_count": 34,
   "metadata": {},
   "outputs": [],
   "source": [
    "from kamodo import kamodofy, pointlike\n",
    "import numpy as np\n",
    "\n",
    "@kamodofy\n",
    "@pointlike(signature = '(n,m)->(n,m)', otypes = [np.float], squeeze = 0)\n",
    "def bvec(xvec):\n",
    "    return denton.Bvec(xvec, bvec.t)\n",
    "\n",
    "bvec.t = t0 \n",
    "\n",
    "fields['bvec'] = bvec"
   ]
  },
  {
   "cell_type": "code",
   "execution_count": 35,
   "metadata": {},
   "outputs": [
    {
     "data": {
      "text/latex": [
       "\\begin{equation}\\vec{B}{\\left(\\vec{x},t \\right)} = \\lambda{\\left(\\vec{x},t \\right)}\\end{equation}$$\\hat{n}(\\vec{y}) = \\vec{y}/\\sqrt{\\vec{y} \\cdot \\vec{y}} $$\\begin{equation}\\hat{b}{\\left(\\vec{x} \\right)} = \\hat{n}{\\left(\\vec{b}{\\left(\\vec{x} \\right)} \\right)}\\end{equation}\\begin{equation}\\operatorname{bc}{\\left(s,\\vec{r} \\right)} = \\lambda{\\left(s,\\vec{r} \\right)}\\end{equation}\\begin{equation}\\vec{l}{\\left(s \\right)} = \\lambda{\\left(s \\right)}\\end{equation}\\begin{equation}\\vec{b}{\\left(\\vec{x} \\right)} = \\lambda{\\left(\\vec{x} \\right)}\\end{equation}"
      ],
      "text/plain": [
       "Kamodo([(Bvec(xvec, t),\n",
       "         <function Denton.Denton.register_spatial.<locals>.Bvec(xvec=array([[-3. , -3. , -3. ],\n",
       "       [-3. , -3. , -2.4],\n",
       "       [-3. , -3. , -1.8],\n",
       "       ...,\n",
       "       [ 3. ,  3. ,  1.8],\n",
       "       [ 3. ,  3. ,  2.4],\n",
       "       [ 3. ,  3. ,  3. ]]), t=31.000000000000004)>),\n",
       "        (Bvec,\n",
       "         <function Denton.Denton.register_spatial.<locals>.Bvec(xvec=array([[-3. , -3. , -3. ],\n",
       "       [-3. , -3. , -2.4],\n",
       "       [-3. , -3. , -1.8],\n",
       "       ...,\n",
       "       [ 3. ,  3. ,  1.8],\n",
       "       [ 3. ,  3. ,  2.4],\n",
       "       [ 3. ,  3. ,  3. ]]), t=31.000000000000004)>),\n",
       "        (bvec(xvec), <function __main__.bvec(xvec)>),\n",
       "        (bvec, <function __main__.bvec(xvec)>),\n",
       "        (nhat(yvec), <function __main__.normalized(yvec)>),\n",
       "        (nhat, <function __main__.normalized(yvec)>),\n",
       "        (bhat(xvec), <function _lambdifygenerated(xvec)>),\n",
       "        (bhat, <function _lambdifygenerated(xvec)>),\n",
       "        (bc(s, rvec), <function __main__.boundary(s, rvec)>),\n",
       "        (bc, <function __main__.boundary(s, rvec)>),\n",
       "        (lvec(s),\n",
       "         <function kamodo.util.solve.<locals>.decorator_solve.<locals>.solution(s=array([0.-2.57142857j, 0.-2.35714286j, 0.-2.14285714j, 0.-1.92857143j,\n",
       "       0.-1.71428571j, 0.-1.5j       , 0.-1.28571429j, 0.-1.07142857j,\n",
       "       0.-0.85714286j, 0.-0.64285714j, 0.-0.42857143j, 0.-0.21428571j,\n",
       "       0.+0.j        , 0.+0.21428571j, 0.+0.42857143j, 0.+0.64285714j,\n",
       "       0.+0.85714286j, 0.+1.07142857j, 0.+1.28571429j, 0.+1.5j       ,\n",
       "       0.+1.71428571j, 0.+1.92857143j, 0.+2.14285714j, 0.+2.35714286j,\n",
       "       0.+2.57142857j, 0.+2.78571429j, 0.+3.j        , 1.-3.j        ,\n",
       "       1.-2.78571429j, 1.-2.57142857j, 1.-2.35714286j, 1.-2.14285714j,\n",
       "       1.-1.92857143j, 1.-1.71428571j, 1.-1.5j       , 1.-1.28571429j,\n",
       "       1.-1.07142857j, 1.-0.85714286j, 1.-0.64285714j, 1.-0.42857143j,\n",
       "       1.-0.21428571j, 1.+0.j        , 1.+0.21428571j, 1.+0.42857143j,\n",
       "       1.+0.64285714j, 1.+0.85714286j, 1.+1.07142857j, 1.+1.28571429j,\n",
       "       1.+1.5j       , 1.+1.71428571j, 1.+1.92857143j, 1.+2.14285714j,\n",
       "       1.+2.35714286j, 1.+2.57142857j, 2.-3.j        , 2.-2.78571429j,\n",
       "       2.-2.57142857j, 2.-2.35714286j, 2.-2.14285714j, 2.-1.92857143j,\n",
       "       2.-1.71428571j, 2.-1.5j       , 2.-1.28571429j, 2.-1.07142857j,\n",
       "       2.-0.85714286j, 2.-0.64285714j, 2.-0.42857143j, 2.-0.21428571j,\n",
       "       2.+0.j        , 2.+0.21428571j, 2.+0.42857143j, 2.+0.64285714j,\n",
       "       2.+0.85714286j, 2.+1.07142857j, 2.+1.28571429j, 2.+1.5j       ,\n",
       "       2.+1.71428571j, 2.+1.92857143j, 2.+2.14285714j, 2.+2.35714286j,\n",
       "       2.+2.57142857j, 3.-2.78571429j, 3.-2.57142857j, 3.-2.35714286j,\n",
       "       3.-2.14285714j, 3.-1.92857143j, 3.-1.71428571j, 3.-1.5j       ,\n",
       "       3.-1.28571429j, 3.-1.07142857j, 3.-0.85714286j, 3.-0.64285714j,\n",
       "       3.-0.42857143j, 3.-0.21428571j, 3.+0.j        , 3.+0.21428571j,\n",
       "       3.+0.42857143j, 3.+0.64285714j, 3.+0.85714286j, 3.+1.07142857j,\n",
       "       3.+1.28571429j, 3.+1.5j       , 3.+1.71428571j, 3.+1.92857143j,\n",
       "       3.+2.14285714j, 3.+2.35714286j, 3.+2.57142857j, 3.+2.78571429j]))>),\n",
       "        (lvec,\n",
       "         <function kamodo.util.solve.<locals>.decorator_solve.<locals>.solution(s=array([0.-2.57142857j, 0.-2.35714286j, 0.-2.14285714j, 0.-1.92857143j,\n",
       "       0.-1.71428571j, 0.-1.5j       , 0.-1.28571429j, 0.-1.07142857j,\n",
       "       0.-0.85714286j, 0.-0.64285714j, 0.-0.42857143j, 0.-0.21428571j,\n",
       "       0.+0.j        , 0.+0.21428571j, 0.+0.42857143j, 0.+0.64285714j,\n",
       "       0.+0.85714286j, 0.+1.07142857j, 0.+1.28571429j, 0.+1.5j       ,\n",
       "       0.+1.71428571j, 0.+1.92857143j, 0.+2.14285714j, 0.+2.35714286j,\n",
       "       0.+2.57142857j, 0.+2.78571429j, 0.+3.j        , 1.-3.j        ,\n",
       "       1.-2.78571429j, 1.-2.57142857j, 1.-2.35714286j, 1.-2.14285714j,\n",
       "       1.-1.92857143j, 1.-1.71428571j, 1.-1.5j       , 1.-1.28571429j,\n",
       "       1.-1.07142857j, 1.-0.85714286j, 1.-0.64285714j, 1.-0.42857143j,\n",
       "       1.-0.21428571j, 1.+0.j        , 1.+0.21428571j, 1.+0.42857143j,\n",
       "       1.+0.64285714j, 1.+0.85714286j, 1.+1.07142857j, 1.+1.28571429j,\n",
       "       1.+1.5j       , 1.+1.71428571j, 1.+1.92857143j, 1.+2.14285714j,\n",
       "       1.+2.35714286j, 1.+2.57142857j, 2.-3.j        , 2.-2.78571429j,\n",
       "       2.-2.57142857j, 2.-2.35714286j, 2.-2.14285714j, 2.-1.92857143j,\n",
       "       2.-1.71428571j, 2.-1.5j       , 2.-1.28571429j, 2.-1.07142857j,\n",
       "       2.-0.85714286j, 2.-0.64285714j, 2.-0.42857143j, 2.-0.21428571j,\n",
       "       2.+0.j        , 2.+0.21428571j, 2.+0.42857143j, 2.+0.64285714j,\n",
       "       2.+0.85714286j, 2.+1.07142857j, 2.+1.28571429j, 2.+1.5j       ,\n",
       "       2.+1.71428571j, 2.+1.92857143j, 2.+2.14285714j, 2.+2.35714286j,\n",
       "       2.+2.57142857j, 3.-2.78571429j, 3.-2.57142857j, 3.-2.35714286j,\n",
       "       3.-2.14285714j, 3.-1.92857143j, 3.-1.71428571j, 3.-1.5j       ,\n",
       "       3.-1.28571429j, 3.-1.07142857j, 3.-0.85714286j, 3.-0.64285714j,\n",
       "       3.-0.42857143j, 3.-0.21428571j, 3.+0.j        , 3.+0.21428571j,\n",
       "       3.+0.42857143j, 3.+0.64285714j, 3.+0.85714286j, 3.+1.07142857j,\n",
       "       3.+1.28571429j, 3.+1.5j       , 3.+1.71428571j, 3.+1.92857143j,\n",
       "       3.+2.14285714j, 3.+2.35714286j, 3.+2.57142857j, 3.+2.78571429j]))>)])"
      ]
     },
     "execution_count": 35,
     "metadata": {},
     "output_type": "execute_result"
    }
   ],
   "source": [
    "fields"
   ]
  },
  {
   "cell_type": "markdown",
   "metadata": {},
   "source": [
    "Note that $\\vec{b}(\\vec{x_1(t)})$ should match $\\hat{B_1}(t)$"
   ]
  },
  {
   "cell_type": "code",
   "execution_count": 36,
   "metadata": {},
   "outputs": [
    {
     "data": {
      "text/plain": [
       "array([ 2.46024091,  0.75626258, -0.22039501])"
      ]
     },
     "execution_count": 36,
     "metadata": {},
     "output_type": "execute_result"
    }
   ],
   "source": [
    "denton.Bvechat_1(t0)"
   ]
  },
  {
   "cell_type": "code",
   "execution_count": 37,
   "metadata": {},
   "outputs": [
    {
     "data": {
      "text/plain": [
       "array([ 2.46024091,  0.75626258, -0.22039501])"
      ]
     },
     "execution_count": 37,
     "metadata": {},
     "output_type": "execute_result"
    }
   ],
   "source": [
    "fields.bvec(denton.xvec_1(t0))"
   ]
  },
  {
   "cell_type": "markdown",
   "metadata": {},
   "source": [
    "## Field normalization\n",
    "\n",
    "To control the spatial resolution of the solver, we'll register a normalized version of the field."
   ]
  },
  {
   "cell_type": "code",
   "execution_count": 14,
   "metadata": {},
   "outputs": [
    {
     "data": {
      "text/latex": [
       "\\begin{equation}\\vec{B}{\\left(\\vec{x},t \\right)} = \\lambda{\\left(\\vec{x},t \\right)}\\end{equation}\\begin{equation}\\vec{b}{\\left(\\vec{x} \\right)} = \\lambda{\\left(\\vec{x} \\right)}\\end{equation}$$\\hat{n}(\\vec{y}) = \\vec{y}/\\sqrt{\\vec{y} \\cdot \\vec{y}} $$"
      ],
      "text/plain": [
       "Kamodo([(Bvec(xvec, t),\n",
       "         <function Denton.Denton.register_spatial.<locals>.Bvec(xvec=array([[-3. , -3. , -3. ],\n",
       "       [-3. , -3. , -2.4],\n",
       "       [-3. , -3. , -1.8],\n",
       "       ...,\n",
       "       [ 3. ,  3. ,  1.8],\n",
       "       [ 3. ,  3. ,  2.4],\n",
       "       [ 3. ,  3. ,  3. ]]), t=31.000000000000004)>),\n",
       "        (Bvec,\n",
       "         <function Denton.Denton.register_spatial.<locals>.Bvec(xvec=array([[-3. , -3. , -3. ],\n",
       "       [-3. , -3. , -2.4],\n",
       "       [-3. , -3. , -1.8],\n",
       "       ...,\n",
       "       [ 3. ,  3. ,  1.8],\n",
       "       [ 3. ,  3. ,  2.4],\n",
       "       [ 3. ,  3. ,  3. ]]), t=31.000000000000004)>),\n",
       "        (bvec(xvec), <function __main__.bvec(xvec)>),\n",
       "        (bvec, <function __main__.bvec(xvec)>),\n",
       "        (nhat(yvec), <function __main__.normalized(yvec)>),\n",
       "        (nhat, <function __main__.normalized(yvec)>)])"
      ]
     },
     "execution_count": 14,
     "metadata": {},
     "output_type": "execute_result"
    }
   ],
   "source": [
    "import numpy as np\n",
    "\n",
    "@kamodofy(equation = \"$$\\\\hat{n}(\\\\vec{y}) = \\\\vec{y}/\\\\sqrt{\\\\vec{y} \\\\cdot \\\\vec{y}} $$\")\n",
    "@pointlike(signature = '(m,n)->(m,n)', squeeze = 0)\n",
    "def normalized(yvec):   \n",
    "    r = np.linalg.norm(yvec, axis = 1)\n",
    "    r[r==0] = np.nan\n",
    "\n",
    "    try:\n",
    "        return yvec/r\n",
    "    except:\n",
    "        return (yvec.T/r).T\n",
    "    \n",
    "fields['nhat'] = normalized\n",
    "fields"
   ]
  },
  {
   "cell_type": "markdown",
   "metadata": {},
   "source": [
    "Now that we can register a normalized version of the spatial magnetic field."
   ]
  },
  {
   "cell_type": "code",
   "execution_count": 15,
   "metadata": {},
   "outputs": [
    {
     "data": {
      "text/latex": [
       "\\begin{equation}\\vec{B}{\\left(\\vec{x},t \\right)} = \\lambda{\\left(\\vec{x},t \\right)}\\end{equation}\\begin{equation}\\vec{b}{\\left(\\vec{x} \\right)} = \\lambda{\\left(\\vec{x} \\right)}\\end{equation}$$\\hat{n}(\\vec{y}) = \\vec{y}/\\sqrt{\\vec{y} \\cdot \\vec{y}} $$\\begin{equation}\\hat{b}{\\left(\\vec{x} \\right)} = \\hat{n}{\\left(\\vec{b}{\\left(\\vec{x} \\right)} \\right)}\\end{equation}"
      ],
      "text/plain": [
       "Kamodo([(Bvec(xvec, t),\n",
       "         <function Denton.Denton.register_spatial.<locals>.Bvec(xvec=array([[-3. , -3. , -3. ],\n",
       "       [-3. , -3. , -2.4],\n",
       "       [-3. , -3. , -1.8],\n",
       "       ...,\n",
       "       [ 3. ,  3. ,  1.8],\n",
       "       [ 3. ,  3. ,  2.4],\n",
       "       [ 3. ,  3. ,  3. ]]), t=31.000000000000004)>),\n",
       "        (Bvec,\n",
       "         <function Denton.Denton.register_spatial.<locals>.Bvec(xvec=array([[-3. , -3. , -3. ],\n",
       "       [-3. , -3. , -2.4],\n",
       "       [-3. , -3. , -1.8],\n",
       "       ...,\n",
       "       [ 3. ,  3. ,  1.8],\n",
       "       [ 3. ,  3. ,  2.4],\n",
       "       [ 3. ,  3. ,  3. ]]), t=31.000000000000004)>),\n",
       "        (bvec(xvec), <function __main__.bvec(xvec)>),\n",
       "        (bvec, <function __main__.bvec(xvec)>),\n",
       "        (nhat(yvec), <function __main__.normalized(yvec)>),\n",
       "        (nhat, <function __main__.normalized(yvec)>),\n",
       "        (bhat(xvec), <function _lambdifygenerated(xvec)>),\n",
       "        (bhat, <function _lambdifygenerated(xvec)>)])"
      ]
     },
     "execution_count": 15,
     "metadata": {},
     "output_type": "execute_result"
    }
   ],
   "source": [
    "fields['bhat'] = 'nhat(bvec)'\n",
    "fields"
   ]
  },
  {
   "cell_type": "markdown",
   "metadata": {},
   "source": [
    "## Tracer limits\n",
    "\n",
    "We need to specify a boundary condition for the tracer so it does not go out of bounds. This can be any function of field line length and current position, but it must return positive when inside the bounds and negatie when outide."
   ]
  },
  {
   "cell_type": "code",
   "execution_count": 16,
   "metadata": {},
   "outputs": [],
   "source": [
    "from kamodo import event\n",
    "\n",
    "\n",
    "def boundary(s, rvec):\n",
    "    \"\"\"Boundary of the tracer domain\"\"\"\n",
    "    r = np.linalg.norm(rvec)\n",
    "    \n",
    "    if np.isnan(r):\n",
    "        result = 0\n",
    "    else:\n",
    "        result = boundary.rmax - r\n",
    "    return result\n",
    "\n",
    "# set boundary parameters\n",
    "boundary.rmax = denton.intro.Lmax\n",
    "boundary.terminal = True\n",
    "boundary.direction = 0"
   ]
  },
  {
   "cell_type": "code",
   "execution_count": 17,
   "metadata": {},
   "outputs": [
    {
     "data": {
      "text/latex": [
       "\\begin{equation}\\vec{B}{\\left(\\vec{x},t \\right)} = \\lambda{\\left(\\vec{x},t \\right)}\\end{equation}\\begin{equation}\\vec{b}{\\left(\\vec{x} \\right)} = \\lambda{\\left(\\vec{x} \\right)}\\end{equation}$$\\hat{n}(\\vec{y}) = \\vec{y}/\\sqrt{\\vec{y} \\cdot \\vec{y}} $$\\begin{equation}\\hat{b}{\\left(\\vec{x} \\right)} = \\hat{n}{\\left(\\vec{b}{\\left(\\vec{x} \\right)} \\right)}\\end{equation}\\begin{equation}\\operatorname{bc}{\\left(s,\\vec{r} \\right)} = \\lambda{\\left(s,\\vec{r} \\right)}\\end{equation}"
      ],
      "text/plain": [
       "Kamodo([(Bvec(xvec, t),\n",
       "         <function Denton.Denton.register_spatial.<locals>.Bvec(xvec=array([[-3. , -3. , -3. ],\n",
       "       [-3. , -3. , -2.4],\n",
       "       [-3. , -3. , -1.8],\n",
       "       ...,\n",
       "       [ 3. ,  3. ,  1.8],\n",
       "       [ 3. ,  3. ,  2.4],\n",
       "       [ 3. ,  3. ,  3. ]]), t=31.000000000000004)>),\n",
       "        (Bvec,\n",
       "         <function Denton.Denton.register_spatial.<locals>.Bvec(xvec=array([[-3. , -3. , -3. ],\n",
       "       [-3. , -3. , -2.4],\n",
       "       [-3. , -3. , -1.8],\n",
       "       ...,\n",
       "       [ 3. ,  3. ,  1.8],\n",
       "       [ 3. ,  3. ,  2.4],\n",
       "       [ 3. ,  3. ,  3. ]]), t=31.000000000000004)>),\n",
       "        (bvec(xvec), <function __main__.bvec(xvec)>),\n",
       "        (bvec, <function __main__.bvec(xvec)>),\n",
       "        (nhat(yvec), <function __main__.normalized(yvec)>),\n",
       "        (nhat, <function __main__.normalized(yvec)>),\n",
       "        (bhat(xvec), <function _lambdifygenerated(xvec)>),\n",
       "        (bhat, <function _lambdifygenerated(xvec)>),\n",
       "        (bc(s, rvec), <function __main__.boundary(s, rvec)>),\n",
       "        (bc, <function __main__.boundary(s, rvec)>)])"
      ]
     },
     "execution_count": 17,
     "metadata": {},
     "output_type": "execute_result"
    }
   ],
   "source": [
    "fields['bc'] = kamodofy(boundary)\n",
    "fields"
   ]
  },
  {
   "cell_type": "markdown",
   "metadata": {},
   "source": [
    "## Defining Seed points\n",
    "\n",
    "We will trace from locations of the four MMS spacecraft for this point in time."
   ]
  },
  {
   "cell_type": "code",
   "execution_count": 18,
   "metadata": {},
   "outputs": [
    {
     "data": {
      "text/plain": [
       "32.91"
      ]
     },
     "execution_count": 18,
     "metadata": {},
     "output_type": "execute_result"
    }
   ],
   "source": [
    "t0"
   ]
  },
  {
   "cell_type": "code",
   "execution_count": 19,
   "metadata": {},
   "outputs": [
    {
     "data": {
      "text/plain": [
       "array([[-0.22609148, -0.42938293,  0.36167197],\n",
       "       [-0.57525902,  0.33372416, -0.25466636],\n",
       "       [ 0.16600319,  0.34958773,  0.10506519],\n",
       "       [ 0.63534731, -0.25392896, -0.21207081]])"
      ]
     },
     "execution_count": 19,
     "metadata": {},
     "output_type": "execute_result"
    }
   ],
   "source": [
    "seeds = np.vstack([denton['xvec_{}'.format(isat+1)](t0) for isat in range(4)])\n",
    "seeds"
   ]
  },
  {
   "cell_type": "markdown",
   "metadata": {},
   "source": [
    "## Tracing the field\n",
    "\n",
    "We now have everything we need to trace the fieldlines. First import the solve method kamodo, which wraps scipy's solve_ivp method."
   ]
  },
  {
   "cell_type": "code",
   "execution_count": 20,
   "metadata": {},
   "outputs": [],
   "source": [
    "from kamodo.util import solve"
   ]
  },
  {
   "cell_type": "code",
   "execution_count": 21,
   "metadata": {},
   "outputs": [],
   "source": [
    "fields['lvec'] = solve(\n",
    "    fields.bhat,\n",
    "    seeds, 's',\n",
    "    (0,3),\n",
    "    npoints = 15,\n",
    "    events = fields.bc)"
   ]
  },
  {
   "cell_type": "code",
   "execution_count": 22,
   "metadata": {},
   "outputs": [
    {
     "data": {
      "text/latex": [
       "\\begin{equation}\\vec{B}{\\left(\\vec{x},t \\right)} = \\lambda{\\left(\\vec{x},t \\right)}\\end{equation}\\begin{equation}\\vec{b}{\\left(\\vec{x} \\right)} = \\lambda{\\left(\\vec{x} \\right)}\\end{equation}$$\\hat{n}(\\vec{y}) = \\vec{y}/\\sqrt{\\vec{y} \\cdot \\vec{y}} $$\\begin{equation}\\hat{b}{\\left(\\vec{x} \\right)} = \\hat{n}{\\left(\\vec{b}{\\left(\\vec{x} \\right)} \\right)}\\end{equation}\\begin{equation}\\operatorname{bc}{\\left(s,\\vec{r} \\right)} = \\lambda{\\left(s,\\vec{r} \\right)}\\end{equation}\\begin{equation}\\vec{l}{\\left(s \\right)} = \\lambda{\\left(s \\right)}\\end{equation}"
      ],
      "text/plain": [
       "Kamodo([(Bvec(xvec, t),\n",
       "         <function Denton.Denton.register_spatial.<locals>.Bvec(xvec=array([[-3. , -3. , -3. ],\n",
       "       [-3. , -3. , -2.4],\n",
       "       [-3. , -3. , -1.8],\n",
       "       ...,\n",
       "       [ 3. ,  3. ,  1.8],\n",
       "       [ 3. ,  3. ,  2.4],\n",
       "       [ 3. ,  3. ,  3. ]]), t=31.000000000000004)>),\n",
       "        (Bvec,\n",
       "         <function Denton.Denton.register_spatial.<locals>.Bvec(xvec=array([[-3. , -3. , -3. ],\n",
       "       [-3. , -3. , -2.4],\n",
       "       [-3. , -3. , -1.8],\n",
       "       ...,\n",
       "       [ 3. ,  3. ,  1.8],\n",
       "       [ 3. ,  3. ,  2.4],\n",
       "       [ 3. ,  3. ,  3. ]]), t=31.000000000000004)>),\n",
       "        (bvec(xvec), <function __main__.bvec(xvec)>),\n",
       "        (bvec, <function __main__.bvec(xvec)>),\n",
       "        (nhat(yvec), <function __main__.normalized(yvec)>),\n",
       "        (nhat, <function __main__.normalized(yvec)>),\n",
       "        (bhat(xvec), <function _lambdifygenerated(xvec)>),\n",
       "        (bhat, <function _lambdifygenerated(xvec)>),\n",
       "        (bc(s, rvec), <function __main__.boundary(s, rvec)>),\n",
       "        (bc, <function __main__.boundary(s, rvec)>),\n",
       "        (lvec(s),\n",
       "         <function kamodo.util.solve.<locals>.decorator_solve.<locals>.solution(s=array([0.-2.57142857j, 0.-2.35714286j, 0.-2.14285714j, 0.-1.92857143j,\n",
       "       0.-1.71428571j, 0.-1.5j       , 0.-1.28571429j, 0.-1.07142857j,\n",
       "       0.-0.85714286j, 0.-0.64285714j, 0.-0.42857143j, 0.-0.21428571j,\n",
       "       0.+0.j        , 0.+0.21428571j, 0.+0.42857143j, 0.+0.64285714j,\n",
       "       0.+0.85714286j, 0.+1.07142857j, 0.+1.28571429j, 0.+1.5j       ,\n",
       "       0.+1.71428571j, 0.+1.92857143j, 0.+2.14285714j, 0.+2.35714286j,\n",
       "       0.+2.57142857j, 0.+2.78571429j, 0.+3.j        , 1.-3.j        ,\n",
       "       1.-2.78571429j, 1.-2.57142857j, 1.-2.35714286j, 1.-2.14285714j,\n",
       "       1.-1.92857143j, 1.-1.71428571j, 1.-1.5j       , 1.-1.28571429j,\n",
       "       1.-1.07142857j, 1.-0.85714286j, 1.-0.64285714j, 1.-0.42857143j,\n",
       "       1.-0.21428571j, 1.+0.j        , 1.+0.21428571j, 1.+0.42857143j,\n",
       "       1.+0.64285714j, 1.+0.85714286j, 1.+1.07142857j, 1.+1.28571429j,\n",
       "       1.+1.5j       , 1.+1.71428571j, 1.+1.92857143j, 1.+2.14285714j,\n",
       "       1.+2.35714286j, 1.+2.57142857j, 2.-3.j        , 2.-2.78571429j,\n",
       "       2.-2.57142857j, 2.-2.35714286j, 2.-2.14285714j, 2.-1.92857143j,\n",
       "       2.-1.71428571j, 2.-1.5j       , 2.-1.28571429j, 2.-1.07142857j,\n",
       "       2.-0.85714286j, 2.-0.64285714j, 2.-0.42857143j, 2.-0.21428571j,\n",
       "       2.+0.j        , 2.+0.21428571j, 2.+0.42857143j, 2.+0.64285714j,\n",
       "       2.+0.85714286j, 2.+1.07142857j, 2.+1.28571429j, 2.+1.5j       ,\n",
       "       2.+1.71428571j, 2.+1.92857143j, 2.+2.14285714j, 2.+2.35714286j,\n",
       "       2.+2.57142857j, 3.-2.78571429j, 3.-2.57142857j, 3.-2.35714286j,\n",
       "       3.-2.14285714j, 3.-1.92857143j, 3.-1.71428571j, 3.-1.5j       ,\n",
       "       3.-1.28571429j, 3.-1.07142857j, 3.-0.85714286j, 3.-0.64285714j,\n",
       "       3.-0.42857143j, 3.-0.21428571j, 3.+0.j        , 3.+0.21428571j,\n",
       "       3.+0.42857143j, 3.+0.64285714j, 3.+0.85714286j, 3.+1.07142857j,\n",
       "       3.+1.28571429j, 3.+1.5j       , 3.+1.71428571j, 3.+1.92857143j,\n",
       "       3.+2.14285714j, 3.+2.35714286j, 3.+2.57142857j, 3.+2.78571429j]))>),\n",
       "        (lvec,\n",
       "         <function kamodo.util.solve.<locals>.decorator_solve.<locals>.solution(s=array([0.-2.57142857j, 0.-2.35714286j, 0.-2.14285714j, 0.-1.92857143j,\n",
       "       0.-1.71428571j, 0.-1.5j       , 0.-1.28571429j, 0.-1.07142857j,\n",
       "       0.-0.85714286j, 0.-0.64285714j, 0.-0.42857143j, 0.-0.21428571j,\n",
       "       0.+0.j        , 0.+0.21428571j, 0.+0.42857143j, 0.+0.64285714j,\n",
       "       0.+0.85714286j, 0.+1.07142857j, 0.+1.28571429j, 0.+1.5j       ,\n",
       "       0.+1.71428571j, 0.+1.92857143j, 0.+2.14285714j, 0.+2.35714286j,\n",
       "       0.+2.57142857j, 0.+2.78571429j, 0.+3.j        , 1.-3.j        ,\n",
       "       1.-2.78571429j, 1.-2.57142857j, 1.-2.35714286j, 1.-2.14285714j,\n",
       "       1.-1.92857143j, 1.-1.71428571j, 1.-1.5j       , 1.-1.28571429j,\n",
       "       1.-1.07142857j, 1.-0.85714286j, 1.-0.64285714j, 1.-0.42857143j,\n",
       "       1.-0.21428571j, 1.+0.j        , 1.+0.21428571j, 1.+0.42857143j,\n",
       "       1.+0.64285714j, 1.+0.85714286j, 1.+1.07142857j, 1.+1.28571429j,\n",
       "       1.+1.5j       , 1.+1.71428571j, 1.+1.92857143j, 1.+2.14285714j,\n",
       "       1.+2.35714286j, 1.+2.57142857j, 2.-3.j        , 2.-2.78571429j,\n",
       "       2.-2.57142857j, 2.-2.35714286j, 2.-2.14285714j, 2.-1.92857143j,\n",
       "       2.-1.71428571j, 2.-1.5j       , 2.-1.28571429j, 2.-1.07142857j,\n",
       "       2.-0.85714286j, 2.-0.64285714j, 2.-0.42857143j, 2.-0.21428571j,\n",
       "       2.+0.j        , 2.+0.21428571j, 2.+0.42857143j, 2.+0.64285714j,\n",
       "       2.+0.85714286j, 2.+1.07142857j, 2.+1.28571429j, 2.+1.5j       ,\n",
       "       2.+1.71428571j, 2.+1.92857143j, 2.+2.14285714j, 2.+2.35714286j,\n",
       "       2.+2.57142857j, 3.-2.78571429j, 3.-2.57142857j, 3.-2.35714286j,\n",
       "       3.-2.14285714j, 3.-1.92857143j, 3.-1.71428571j, 3.-1.5j       ,\n",
       "       3.-1.28571429j, 3.-1.07142857j, 3.-0.85714286j, 3.-0.64285714j,\n",
       "       3.-0.42857143j, 3.-0.21428571j, 3.+0.j        , 3.+0.21428571j,\n",
       "       3.+0.42857143j, 3.+0.64285714j, 3.+0.85714286j, 3.+1.07142857j,\n",
       "       3.+1.28571429j, 3.+1.5j       , 3.+1.71428571j, 3.+1.92857143j,\n",
       "       3.+2.14285714j, 3.+2.35714286j, 3.+2.57142857j, 3.+2.78571429j]))>)])"
      ]
     },
     "execution_count": 22,
     "metadata": {},
     "output_type": "execute_result"
    }
   ],
   "source": [
    "fields"
   ]
  },
  {
   "cell_type": "markdown",
   "metadata": {},
   "source": [
    "To get the positions along the fieldline, call $\\vec{l}$ with default arguments."
   ]
  },
  {
   "cell_type": "code",
   "execution_count": 23,
   "metadata": {},
   "outputs": [
    {
     "data": {
      "text/html": [
       "<div>\n",
       "<style scoped>\n",
       "    .dataframe tbody tr th:only-of-type {\n",
       "        vertical-align: middle;\n",
       "    }\n",
       "\n",
       "    .dataframe tbody tr th {\n",
       "        vertical-align: top;\n",
       "    }\n",
       "\n",
       "    .dataframe thead th {\n",
       "        text-align: right;\n",
       "    }\n",
       "</style>\n",
       "<table border=\"1\" class=\"dataframe\">\n",
       "  <thead>\n",
       "    <tr style=\"text-align: right;\">\n",
       "      <th></th>\n",
       "      <th></th>\n",
       "      <th>0</th>\n",
       "      <th>1</th>\n",
       "      <th>2</th>\n",
       "    </tr>\n",
       "    <tr>\n",
       "      <th>seed</th>\n",
       "      <th>integral</th>\n",
       "      <th></th>\n",
       "      <th></th>\n",
       "      <th></th>\n",
       "    </tr>\n",
       "  </thead>\n",
       "  <tbody>\n",
       "    <tr>\n",
       "      <th rowspan=\"5\" valign=\"top\">0.0</th>\n",
       "      <th>-2.571429</th>\n",
       "      <td>-2.654786</td>\n",
       "      <td>-0.850300</td>\n",
       "      <td>0.985634</td>\n",
       "    </tr>\n",
       "    <tr>\n",
       "      <th>-2.357143</th>\n",
       "      <td>-2.458162</td>\n",
       "      <td>-0.860956</td>\n",
       "      <td>0.900921</td>\n",
       "    </tr>\n",
       "    <tr>\n",
       "      <th>-2.142857</th>\n",
       "      <td>-2.259184</td>\n",
       "      <td>-0.860704</td>\n",
       "      <td>0.821431</td>\n",
       "    </tr>\n",
       "    <tr>\n",
       "      <th>-1.928571</th>\n",
       "      <td>-2.058403</td>\n",
       "      <td>-0.849982</td>\n",
       "      <td>0.747588</td>\n",
       "    </tr>\n",
       "    <tr>\n",
       "      <th>-1.714286</th>\n",
       "      <td>-1.856301</td>\n",
       "      <td>-0.829395</td>\n",
       "      <td>0.679739</td>\n",
       "    </tr>\n",
       "  </tbody>\n",
       "</table>\n",
       "</div>"
      ],
      "text/plain": [
       "                       0         1         2\n",
       "seed integral                               \n",
       "0.0  -2.571429 -2.654786 -0.850300  0.985634\n",
       "     -2.357143 -2.458162 -0.860956  0.900921\n",
       "     -2.142857 -2.259184 -0.860704  0.821431\n",
       "     -1.928571 -2.058403 -0.849982  0.747588\n",
       "     -1.714286 -1.856301 -0.829395  0.679739"
      ]
     },
     "execution_count": 23,
     "metadata": {},
     "output_type": "execute_result"
    }
   ],
   "source": [
    "\n",
    "fields.lvec().head()"
   ]
  },
  {
   "cell_type": "markdown",
   "metadata": {},
   "source": [
    "## Visualization\n",
    "\n",
    "We visualize the results using plotly."
   ]
  },
  {
   "cell_type": "code",
   "execution_count": 24,
   "metadata": {},
   "outputs": [
    {
     "data": {
      "text/html": [
       "        <script type=\"text/javascript\">\n",
       "        window.PlotlyConfig = {MathJaxConfig: 'local'};\n",
       "        if (window.MathJax) {MathJax.Hub.Config({SVG: {font: \"STIX-Web\"}});}\n",
       "        if (typeof require !== 'undefined') {\n",
       "        require.undef(\"plotly\");\n",
       "        requirejs.config({\n",
       "            paths: {\n",
       "                'plotly': ['https://cdn.plot.ly/plotly-latest.min']\n",
       "            }\n",
       "        });\n",
       "        require(['plotly'], function(Plotly) {\n",
       "            window._Plotly = Plotly;\n",
       "        });\n",
       "        }\n",
       "        </script>\n",
       "        "
      ]
     },
     "metadata": {},
     "output_type": "display_data"
    }
   ],
   "source": [
    "from plotly.offline import init_notebook_mode, iplot\n",
    "init_notebook_mode(connected = True)"
   ]
  },
  {
   "cell_type": "code",
   "execution_count": 25,
   "metadata": {},
   "outputs": [],
   "source": [
    "fig = fields.plot('lvec', bhat = dict(xvec = fields.lvec()))"
   ]
  },
  {
   "cell_type": "markdown",
   "metadata": {},
   "source": [
    "The plot command above generates a figure depicting fieldlines along with associated vectors. However, in order to match the perspective from the paper, we need to modify some of the figure's scene properties:"
   ]
  },
  {
   "cell_type": "code",
   "execution_count": 26,
   "metadata": {},
   "outputs": [],
   "source": [
    "fig.layout['scene']['camera']['projection']['type'] = 'orthographic'\n",
    "fig.layout['autosize'] = True\n",
    "fig.layout.scene.xaxis.title.text = 'L/L_sc'\n",
    "fig.layout.scene.zaxis.title.text = 'N/N_sc'\n",
    "fig.layout.scene.xaxis.range = [-2.5,2.5]\n",
    "fig.layout.scene.yaxis.range = [-2.5,2.5]\n",
    "fig.layout.scene.zaxis.range = [-2.5,2.5]\n",
    "# fig.layout['width'] = 1500\n",
    "# fig.layout['height'] = 700\n",
    "fig.layout.scene.aspectmode = 'cube'"
   ]
  },
  {
   "cell_type": "markdown",
   "metadata": {},
   "source": [
    "Save the figure as svg with plotly-orca\n",
    "\n",
    "!!! note\n",
    "    You must have plotly-orca installed `conda install -c plotly plotly-orca`"
   ]
  },
  {
   "cell_type": "code",
   "execution_count": 27,
   "metadata": {},
   "outputs": [],
   "source": [
    "import plotly.io as pio"
   ]
  },
  {
   "cell_type": "code",
   "execution_count": 28,
   "metadata": {},
   "outputs": [],
   "source": [
    "mkdir docs"
   ]
  },
  {
   "cell_type": "code",
   "execution_count": 29,
   "metadata": {},
   "outputs": [],
   "source": [
    "mkdir images"
   ]
  },
  {
   "cell_type": "code",
   "execution_count": 30,
   "metadata": {},
   "outputs": [],
   "source": [
    "pio.write_image(fig, 'images/streamlines3d.svg')"
   ]
  },
  {
   "cell_type": "markdown",
   "metadata": {},
   "source": [
    "![streamlines](images/streamlines3d.svg?3)"
   ]
  },
  {
   "cell_type": "code",
   "execution_count": 31,
   "metadata": {},
   "outputs": [
    {
     "data": {
      "application/vnd.plotly.v1+json": {
       "config": {
        "linkText": "Export to plot.ly",
        "plotlyServerURL": "https://plot.ly",
        "showLink": false
       },
       "data": [
        {
         "cmax": 1,
         "cmin": 0,
         "colorscale": [
          [
           0,
           "rgb(255,245,240)"
          ],
          [
           0.125,
           "rgb(254,224,210)"
          ],
          [
           0.25,
           "rgb(252,187,161)"
          ],
          [
           0.375,
           "rgb(252,146,114)"
          ],
          [
           0.5,
           "rgb(251,106,74)"
          ],
          [
           0.625,
           "rgb(239,59,44)"
          ],
          [
           0.75,
           "rgb(203,24,29)"
          ],
          [
           0.875,
           "rgb(165,15,21)"
          ],
          [
           1,
           "rgb(103,0,13)"
          ]
         ],
         "hoverinfo": "x+y+z+u+v+w+norm",
         "type": "cone",
         "u": [
          0.9104296734888514,
          0.9231083348251243,
          0.933109434785699,
          0.9405798431763868,
          0.9457660292941478,
          0.9490131092817411,
          0.9507512630218471,
          0.9514654317037364,
          0.951646137596141,
          0.9516636488818835,
          0.9517465544444441,
          0.9519937545578743,
          0.9523740619768464,
          0.9527650075253636,
          0.9529933684143577,
          0.9528645193350799,
          0.9521800466616255,
          0.9507374216029267,
          0.9483291725770163,
          0.9447326222579884,
          0.93970175646066,
          0.9329625507648085,
          0.9242109593322075,
          0.9131131326087545,
          0.8993066793600472,
          0.8824010772225731,
          0.8619746012913319,
          0.5780214199073065,
          0.5207904367243164,
          0.46465268152071343,
          0.4109421528020482,
          0.36059992214866937,
          0.31419009519761354,
          0.2719545457658858,
          0.23388387671246716,
          0.19978826373596617,
          0.16935912260772443,
          0.14224383189064516,
          0.11817641701017544,
          0.09683946482866615,
          0.07791195361656533,
          0.06108969548876323,
          0.04608090208981942,
          0.03260845041166233,
          0.020414655602510236,
          0.009246030375209885,
          -0.0011541206425544417,
          -0.011072576615317893,
          -0.020687970785146115,
          -0.030181810056482787,
          -0.03976235683206489,
          -0.049661936925205936,
          -0.060133469076236915,
          -0.07144593948862267,
          0.9039915199932395,
          0.9033965772884943,
          0.8989729186998603,
          0.8911664167482468,
          0.8807322538934498,
          0.8687153639643513,
          0.8563684493114093,
          0.845009398313019,
          0.8358419838862864,
          0.8297792728631426,
          0.8273106344414167,
          0.828422220280648,
          0.8326527638477791,
          0.8392409694731287,
          0.8472621525481222,
          0.8557824142500938,
          0.8639764364563657,
          0.8711883524595396,
          0.8769394166349874,
          0.8808941704378618,
          0.8828190975720894,
          0.8825281918648908,
          0.8798464147108415,
          0.8745837877469083,
          0.8665188022986232,
          0.8553882040064705,
          0.8408797452248518,
          0.2518552575894932,
          0.24017048287598203,
          0.2319228602301344,
          0.2270566058091446,
          0.22554595538108288,
          0.22739878754365206,
          0.2326577911277479,
          0.24139903361012816,
          0.2537274460427918,
          0.26974688534883356,
          0.2893255023548483,
          0.3122783290858836,
          0.33833140328536615,
          0.36707855023864744,
          0.39795065109121497,
          0.43021359652916247,
          0.4629979757528587,
          0.4953503826778935,
          0.526326136863731,
          0.5550611323252786,
          0.580702924669087,
          0.6026292266553686,
          0.6204316521549958,
          0.6338650144923468,
          0.6427918997619635,
          0.6471305761732973,
          0.6468102549221502
         ],
         "v": [
          -0.07565325938044047,
          -0.023959850712734557,
          0.026135716649982144,
          0.07383059180650799,
          0.11828056149439993,
          0.15864217243781106,
          0.19413443994177182,
          0.22411352458592965,
          0.24815877015375026,
          0.26638039027327304,
          0.2793046907132045,
          0.28774108076428473,
          0.2927537980487937,
          0.295530037352639,
          0.29725661722420366,
          0.2990271078547734,
          0.3017757388789764,
          0.30626243169644546,
          0.3130600919039633,
          0.32257748938545094,
          0.33508195453499323,
          0.3507188850649063,
          0.36952936794173047,
          0.3914657941286978,
          0.41640642927126914,
          0.4441701804964184,
          0.4745325084352275,
          0.7729409272988795,
          0.8198637982348951,
          0.8588046918304006,
          0.890478795020996,
          0.9157981522098677,
          0.9357435618672918,
          0.9512680432855257,
          0.9632362632998166,
          0.9723949665278138,
          0.9793657725507519,
          0.9846463922565052,
          0.9886101923597854,
          0.9915615630368717,
          0.9937393795400574,
          0.995327632193207,
          0.9964673202218988,
          0.9972651753452723,
          0.9978006133832827,
          0.9981320302697431,
          0.9983007042830265,
          0.9983334626897066,
          0.9982437468705869,
          0.9980363117841475,
          0.9977069348778956,
          0.9972412562994557,
          0.9966132769806317,
          0.9957834185008098,
          0.12828743946149762,
          0.19217597814034798,
          0.25431144908531234,
          0.31343129982252815,
          0.3681939952781298,
          0.41729041861022204,
          0.4595740690923803,
          0.4941809326785002,
          0.5206136499460962,
          0.5387802964553934,
          0.5489961288492093,
          0.551987545316193,
          0.5488294213767574,
          0.540836980691919,
          0.5294990435015406,
          0.5163631774823103,
          0.5029125557422253,
          0.4904611626353052,
          0.4800843259985554,
          0.4726003211207905,
          0.4685716461448782,
          0.4683516426630205,
          0.4721216771318441,
          0.47992721724970094,
          0.4917090650552779,
          0.5073292927641873,
          0.5265927636220947,
          0.9637445202341739,
          0.9674068086163562,
          0.9700088525562827,
          0.9716710949606533,
          0.9724641972776745,
          0.972411397781815,
          0.9714890086607156,
          0.9696250535897711,
          0.9666962223897824,
          0.9625296350195074,
          0.9569676456079703,
          0.9498305418880049,
          0.9409387090126132,
          0.9301472195866729,
          0.9173893682845451,
          0.9027211139519968,
          0.8863570686468536,
          0.8686910265424796,
          0.8502761045012756,
          0.8317855644559228,
          0.8140426694119873,
          0.7978376571400483,
          0.7838623369045288,
          0.7726762404467663,
          0.7646938946174994,
          0.7601892402572871,
          0.7593116258352379
         ],
         "w": [
          -0.4066870959055613,
          -0.38379281875799826,
          -0.3586414742177837,
          -0.3314492454717382,
          -0.30254970931361114,
          -0.2724092133823923,
          -0.24162751310820796,
          -0.21091861077319454,
          -0.18107140468369012,
          -0.15289796295136718,
          -0.12715103557867777,
          -0.10446512204273359,
          -0.08531623410423245,
          -0.07000598158401708,
          -0.05866978161438432,
          -0.0513029878305038,
          -0.047797093672238375,
          -0.04797580739496594,
          -0.05162518083720045,
          -0.05851526111472314,
          -0.06841558776886422,
          -0.08109958402637465,
          -0.09634390940181849,
          -0.11392514684921422,
          -0.1336158004128139,
          -0.1551811511563872,
          -0.1783779279137984,
          -0.26163631444180185,
          -0.23790896023552172,
          -0.21576002142589162,
          -0.19538183812312981,
          -0.17686560026010006,
          -0.16021413952466362,
          -0.14536105001339916,
          -0.13219014062385245,
          -0.12055156052386845,
          -0.11027316602696512,
          -0.10118386484669585,
          -0.09318917332493683,
          -0.08618459699722154,
          -0.08007354766083397,
          -0.07477268015628508,
          -0.0702099009568907,
          -0.06632389467841489,
          -0.06306486952793754,
          -0.06039007428296033,
          -0.05826123783061896,
          -0.05663651932347476,
          -0.055510626897598274,
          -0.054886962951237135,
          -0.05477067715223178,
          -0.055168548604436964,
          -0.05608869799508849,
          -0.0575400831545198,
          -0.4078500516816506,
          -0.3833314721872363,
          -0.3566137662911836,
          -0.32799883833887383,
          -0.29789910841238243,
          -0.2668376340555999,
          -0.2354246249691064,
          -0.20431427394990603,
          -0.17415397056294957,
          -0.14554088936842643,
          -0.11899733042687582,
          -0.09500723530913463,
          -0.07399757487856243,
          -0.056302357622501346,
          -0.04216168628596603,
          -0.031710067812176036,
          -0.024973556514492325,
          -0.021879270674722392,
          -0.022277780015082602,
          -0.025969154108620128,
          -0.03272695205913363,
          -0.042317010510396415,
          -0.05451062742890252,
          -0.06908736753726617,
          -0.08583333038758291,
          -0.10453711852722154,
          -0.12498526061673403,
          -0.08812167124568107,
          -0.0802633527697071,
          -0.07276409049192858,
          -0.06557881499688555,
          -0.05867202931826142,
          -0.05201792852174924,
          -0.04560107760762982,
          -0.03941778815623461,
          -0.03347830255443789,
          -0.027808623731086352,
          -0.0224427927551969,
          -0.017440954104276877,
          -0.012892146160805517,
          -0.008915595878826512,
          -0.005659174370991218,
          -0.0032942050192538417,
          -0.002005320052311841,
          -0.001974534233012434,
          -0.0033680511036924435,
          -0.006317764202762907,
          -0.01089245873871222,
          -0.017119813960173567,
          -0.02498803287162133,
          -0.034446637741118606,
          -0.04540728064007397,
          -0.05774371289296508,
          -0.07129059544561851
         ],
         "x": [
          -2.6547857830484443,
          -2.4581619769537864,
          -2.2591838327809537,
          -2.0584026723741284,
          -1.8563014555762272,
          -1.653294780228899,
          -1.449728882172527,
          -1.2458816352462272,
          -1.041959989180746,
          -0.8380349301343584,
          -0.6340976786129668,
          -0.4301282059701347,
          -0.2260914835270486,
          -0.021968327573350335,
          0.1822245143309651,
          0.38643184476872866,
          0.5905556565930206,
          0.7944461302713142,
          0.9979141880513811,
          1.2007549317053299,
          1.4026963263325944,
          1.6033969949685185,
          1.8024462185843562,
          1.9993639360872717,
          2.1936007443203387,
          2.3845378980625416,
          2.5714873100287745,
          -1.3683073427413368,
          -1.2506487792825713,
          -1.1450963953608146,
          -1.0511426598815652,
          -0.9682036520643571,
          -0.895619061442761,
          -0.8326521878643837,
          -0.7784899414908675,
          -0.7322428427978913,
          -0.6929450225751701,
          -0.6596429779388052,
          -0.6317920947345996,
          -0.6088005616427676,
          -0.5901172600481457,
          -0.5752590171459244,
          -0.5638047330440494,
          -0.5553947111951295,
          -0.5497346542519882,
          -0.546577439490822,
          -0.5457129005025043,
          -0.5469368535966459,
          -0.5502089389953221,
          -0.5555427953426906,
          -0.5629787732085105,
          -0.5725839350881426,
          -0.584452055402549,
          -0.598703620498293,
          -2.409968326214117,
          -2.2159870238182293,
          -2.0222924372738507,
          -1.829915109300785,
          -1.6396108725719203,
          -1.45186084971323,
          -1.2668714533037744,
          -1.084574385875698,
          -0.9046266399142313,
          -0.7264104978576904,
          -0.549035805995566,
          -0.3716999589253826,
          -0.19377412012845024,
          -0.014675523968205068,
          0.16600318726897292,
          0.34847262609335944,
          0.5327441585288499,
          0.7186743150382332,
          0.9060051032612835,
          1.0943711403382044,
          1.2833660250112995,
          1.4725517816985167,
          1.661439497185364,
          1.8494892430192578,
          2.036110075509521,
          2.2206600357273865,
          2.402446149505993,
          -0.09232031594615436,
          -0.03965899753212371,
          0.010853573398972638,
          0.05995014561964196,
          0.10836412493411243,
          0.15682957417833332,
          0.2060812132199748,
          0.2568544189584283,
          0.3098852253248061,
          0.36591653023031034,
          0.4257537978206307,
          0.4901562792087799,
          0.5598125569897509,
          0.635347313404,
          0.7172817265450142,
          0.8059953788168567,
          0.9016972430262419,
          1.0043944204261814,
          1.113900994472594,
          1.2298177057193314,
          1.3515185729044468,
          1.478294957501841,
          1.6093653588039092,
          1.7438754139215389,
          1.880897897784111,
          2.0194327231395,
          2.158406940554073
         ],
         "y": [
          -0.8503002439940072,
          -0.8609563803283785,
          -0.8607039532252081,
          -0.8499822368507829,
          -0.8293952747954926,
          -0.79971188007383,
          -0.7618656351243906,
          -0.7169548918098734,
          -0.6662383752752148,
          -0.6110052643607055,
          -0.552456632340598,
          -0.49163159690910424,
          -0.42938292789816807,
          -0.3663247295422063,
          -0.30280291685915284,
          -0.23892155473970447,
          -0.17457666238467484,
          -0.10949369439656104,
          -0.04324268454418524,
          0.024795204161412954,
          0.09524948688229129,
          0.16875268229214246,
          0.24594031257629412,
          0.32745090343170835,
          0.4139259840669824,
          0.5060100872023483,
          0.6043507490696725,
          -2.481001664122435,
          -2.310094612787244,
          -2.129893947744503,
          -1.9421276479525504,
          -1.7483074812161206,
          -1.5497290041863465,
          -1.3474715623607572,
          -1.1423982900832796,
          -0.9351561105442376,
          -0.726175735780353,
          -0.5157417721522979,
          -0.30429952880772254,
          -0.09212018605970901,
          0.12060168454691915,
          0.3337241581227721,
          0.5471372448795363,
          0.7607562246071633,
          0.9745185169405511,
          1.188372962312676,
          1.4022773791144059,
          1.6161917720733894,
          1.8301041927796649,
          2.044000234451967,
          2.2578568189181616,
          2.4716421966152424,
          2.6853159465893324,
          2.898828976495683,
          -0.953577829177809,
          -0.9190801478698498,
          -0.8709617672748817,
          -0.8099427836551862,
          -0.7369147573605044,
          -0.6529407128280373,
          -0.5592551385824467,
          -0.45726398723585326,
          -0.3485446754878381,
          -0.23484608412544244,
          -0.11808654087572851,
          -4.863216447326124e-07,
          0.11804011211092189,
          0.23486201339077445,
          0.3495877279796313,
          0.4616610900530807,
          0.570863525409576,
          0.6772719777708859,
          0.7812106154780905,
          0.8831885484251535,
          0.9839101240544379,
          1.0842212856636562,
          1.1849605859762609,
          1.2869582283008725,
          1.3910360665312793,
          1.4980076051464368,
          1.6086779992104674,
          -2.936940710392612,
          -2.7300034004848377,
          -2.5223668633868086,
          -2.314252743338824,
          -2.1058756008091137,
          -1.8974429124938352,
          -1.6891550713170767,
          -1.4812053864308534,
          -1.2737800832151112,
          -1.0670689642921594,
          -0.8613818280374084,
          -0.6570527525441912,
          -0.454437614264265,
          -0.25392895820423533,
          -0.05594111577302881,
          0.13910487307000918,
          0.3308143310668404,
          0.5188737309412035,
          0.7030436146240587,
          0.8832237844791984,
          1.0595631678173105,
          1.2323275185753526,
          1.401888998778535,
          1.5687261785403206,
          1.7334240360624251,
          1.8966739576348168,
          2.059273737635718
         ],
         "z": [
          0.9856336034696365,
          0.9009209442019056,
          0.821430875661828,
          0.7475883400719111,
          0.6797389292080342,
          0.618148884399449,
          0.5630050965287793,
          0.5144151060320213,
          0.47239741613391284,
          0.43665327333048165,
          0.4066943882463391,
          0.38193772935824877,
          0.3616719714981554,
          0.34510162928695487,
          0.3313863256287139,
          0.31967180280031104,
          0.30912220866872064,
          0.2989270898691464,
          0.2883230222270562,
          0.2765873648999697,
          0.2630467635964528,
          0.24707781093240813,
          0.228107046431075,
          0.2056109565230293,
          0.17911597454618375,
          0.14819848074578745,
          0.1124848022744265,
          0.17864241036570166,
          0.12515824693208893,
          0.07657693097049334,
          0.03251502164283113,
          -0.007404826925271307,
          -0.043553865644477135,
          -0.0762972504617394,
          -0.1059940423603008,
          -0.1329972073596938,
          -0.1576536165157406,
          -0.1802825289692352,
          -0.20108946413580847,
          -0.2202908875689812,
          -0.2380892750523372,
          -0.25466635562429374,
          -0.27018825901235827,
          -0.2848067869297837,
          -0.2986585840838982,
          -0.31187386427586694,
          -0.32458119995724394,
          -0.3369221095935893,
          -0.3489803700411284,
          -0.3608378258356375,
          -0.37258751455596567,
          -0.38433366682403464,
          -0.39619170630483863,
          -0.4082882497064446,
          0.7392624481086474,
          0.6544254617458609,
          0.5750885438757625,
          0.5017318731265912,
          0.4347135424453206,
          0.37426955909766024,
          0.3205138446680552,
          0.27343823505968545,
          0.23291248049446647,
          0.1986842455130493,
          0.17037912498211835,
          0.14750118459057174,
          0.12944880309872714,
          0.11554922574414027,
          0.10506519399946272,
          0.09721751367893232,
          0.09121013402749197,
          0.08625304391049453,
          0.08158335445869512,
          0.07647531991131687,
          0.07025131851406906,
          0.06227372162443685,
          0.05195423472154132,
          0.03875399195501056,
          0.02218355614497962,
          0.0018029187820905734,
          -0.022778499972507485,
          -0.08898909168810921,
          -0.10689625556851653,
          -0.12313149220861011,
          -0.13780487672233965,
          -0.15100776971171534,
          -0.1628128172668078,
          -0.1732739509657482,
          -0.18242638787472826,
          -0.1902866305480001,
          -0.19686138363164168,
          -0.2022388936309688,
          -0.20650382529162545,
          -0.20974519323842858,
          -0.21207080987332447,
          -0.21361809148860866,
          -0.21455987790697717,
          -0.21510668511934905,
          -0.21550844586622958,
          -0.21604135398608348,
          -0.21700206016316892,
          -0.21877553828090557,
          -0.22173567418746823,
          -0.22623632809698865,
          -0.23261133458955538,
          -0.24117450261121393,
          -0.25221961547396654,
          -0.26602043085577254
         ]
        },
        {
         "mode": "lines",
         "text": [
          "s:-2.571428571428571j",
          "s:-2.357142857142857j",
          "s:-2.142857142857143j",
          "s:-1.9285714285714284j",
          "s:-1.7142857142857142j",
          "s:-1.5j",
          "s:-1.2857142857142856j",
          "s:-1.0714285714285714j",
          "s:-0.8571428571428571j",
          "s:-0.6428571428571428j",
          "s:-0.42857142857142855j",
          "s:-0.21428571428571427j",
          "s:0j",
          "s:0.21428571428571427j",
          "s:0.42857142857142855j",
          "s:0.6428571428571428j",
          "s:0.8571428571428571j",
          "s:1.0714285714285714j",
          "s:1.2857142857142856j",
          "s:1.5j",
          "s:1.7142857142857142j",
          "s:1.9285714285714284j",
          "s:2.142857142857143j",
          "s:2.357142857142857j",
          "s:2.571428571428571j",
          "s:2.7857142857142856j",
          "s:3j",
          "s:(1-3j)",
          "s:nan",
          "s:-2.571428571428571j",
          "s:-2.357142857142857j",
          "s:-2.142857142857143j",
          "s:-1.9285714285714284j",
          "s:-1.7142857142857142j",
          "s:-1.5j",
          "s:-1.2857142857142856j",
          "s:-1.0714285714285714j",
          "s:-0.8571428571428571j",
          "s:-0.6428571428571428j",
          "s:-0.42857142857142855j",
          "s:-0.21428571428571427j",
          "s:0j",
          "s:0.21428571428571427j",
          "s:0.42857142857142855j",
          "s:0.6428571428571428j",
          "s:0.8571428571428571j",
          "s:1.0714285714285714j",
          "s:1.2857142857142856j",
          "s:1.5j",
          "s:1.7142857142857142j",
          "s:1.9285714285714284j",
          "s:2.142857142857143j",
          "s:2.357142857142857j",
          "s:2.571428571428571j",
          "s:2.7857142857142856j",
          "s:3j",
          "s:(1-3j)",
          "s:nan",
          "s:-2.571428571428571j",
          "s:-2.357142857142857j",
          "s:-2.142857142857143j",
          "s:-1.9285714285714284j",
          "s:-1.7142857142857142j",
          "s:-1.5j",
          "s:-1.2857142857142856j",
          "s:-1.0714285714285714j",
          "s:-0.8571428571428571j",
          "s:-0.6428571428571428j",
          "s:-0.42857142857142855j",
          "s:-0.21428571428571427j",
          "s:0j",
          "s:0.21428571428571427j",
          "s:0.42857142857142855j",
          "s:0.6428571428571428j",
          "s:0.8571428571428571j",
          "s:1.0714285714285714j",
          "s:1.2857142857142856j",
          "s:1.5j",
          "s:1.7142857142857142j",
          "s:1.9285714285714284j",
          "s:2.142857142857143j",
          "s:2.357142857142857j",
          "s:2.571428571428571j",
          "s:2.7857142857142856j",
          "s:3j",
          "s:(1-3j)",
          "s:nan",
          "s:-2.571428571428571j",
          "s:-2.357142857142857j",
          "s:-2.142857142857143j",
          "s:-1.9285714285714284j",
          "s:-1.7142857142857142j",
          "s:-1.5j",
          "s:-1.2857142857142856j",
          "s:-1.0714285714285714j",
          "s:-0.8571428571428571j",
          "s:-0.6428571428571428j",
          "s:-0.42857142857142855j",
          "s:-0.21428571428571427j",
          "s:0j",
          "s:0.21428571428571427j",
          "s:0.42857142857142855j",
          "s:0.6428571428571428j",
          "s:0.8571428571428571j",
          "s:1.0714285714285714j",
          "s:1.2857142857142856j",
          "s:1.5j",
          "s:1.7142857142857142j",
          "s:1.9285714285714284j",
          "s:2.142857142857143j",
          "s:2.357142857142857j",
          "s:2.571428571428571j",
          "s:2.7857142857142856j",
          "s:3j",
          "s:(1-3j)",
          "s:nan"
         ],
         "type": "scatter3d",
         "x": [
          -2.6547857830484443,
          -2.4581619769537864,
          -2.2591838327809537,
          -2.0584026723741284,
          -1.8563014555762272,
          -1.653294780228899,
          -1.449728882172527,
          -1.2458816352462272,
          -1.041959989180746,
          -0.8380349301343584,
          -0.6340976786129668,
          -0.4301282059701347,
          -0.2260914835270486,
          -0.021968327573350335,
          0.1822245143309651,
          0.38643184476872866,
          0.5905556565930206,
          0.7944461302713142,
          0.9979141880513811,
          1.2007549317053299,
          1.4026963263325944,
          1.6033969949685185,
          1.8024462185843562,
          1.9993639360872717,
          2.1936007443203387,
          2.3845378980625416,
          2.5714873100287745,
          null,
          -1.3683073427413368,
          -1.2506487792825713,
          -1.1450963953608146,
          -1.0511426598815652,
          -0.9682036520643571,
          -0.895619061442761,
          -0.8326521878643837,
          -0.7784899414908675,
          -0.7322428427978913,
          -0.6929450225751701,
          -0.6596429779388052,
          -0.6317920947345996,
          -0.6088005616427676,
          -0.5901172600481457,
          -0.5752590171459244,
          -0.5638047330440494,
          -0.5553947111951295,
          -0.5497346542519882,
          -0.546577439490822,
          -0.5457129005025043,
          -0.5469368535966459,
          -0.5502089389953221,
          -0.5555427953426906,
          -0.5629787732085105,
          -0.5725839350881426,
          -0.584452055402549,
          -0.598703620498293,
          null,
          -2.409968326214117,
          -2.2159870238182293,
          -2.0222924372738507,
          -1.829915109300785,
          -1.6396108725719203,
          -1.45186084971323,
          -1.2668714533037744,
          -1.084574385875698,
          -0.9046266399142313,
          -0.7264104978576904,
          -0.549035805995566,
          -0.3716999589253826,
          -0.19377412012845024,
          -0.014675523968205068,
          0.16600318726897292,
          0.34847262609335944,
          0.5327441585288499,
          0.7186743150382332,
          0.9060051032612835,
          1.0943711403382044,
          1.2833660250112995,
          1.4725517816985167,
          1.661439497185364,
          1.8494892430192578,
          2.036110075509521,
          2.2206600357273865,
          2.402446149505993,
          null,
          -0.09232031594615436,
          -0.03965899753212371,
          0.010853573398972638,
          0.05995014561964196,
          0.10836412493411243,
          0.15682957417833332,
          0.2060812132199748,
          0.2568544189584283,
          0.3098852253248061,
          0.36591653023031034,
          0.4257537978206307,
          0.4901562792087799,
          0.5598125569897509,
          0.635347313404,
          0.7172817265450142,
          0.8059953788168567,
          0.9016972430262419,
          1.0043944204261814,
          1.113900994472594,
          1.2298177057193314,
          1.3515185729044468,
          1.478294957501841,
          1.6093653588039092,
          1.7438754139215389,
          1.880897897784111,
          2.0194327231395,
          2.158406940554073,
          null
         ],
         "y": [
          -0.8503002439940072,
          -0.8609563803283785,
          -0.8607039532252081,
          -0.8499822368507829,
          -0.8293952747954926,
          -0.79971188007383,
          -0.7618656351243906,
          -0.7169548918098734,
          -0.6662383752752148,
          -0.6110052643607055,
          -0.552456632340598,
          -0.49163159690910424,
          -0.42938292789816807,
          -0.3663247295422063,
          -0.30280291685915284,
          -0.23892155473970447,
          -0.17457666238467484,
          -0.10949369439656104,
          -0.04324268454418524,
          0.024795204161412954,
          0.09524948688229129,
          0.16875268229214246,
          0.24594031257629412,
          0.32745090343170835,
          0.4139259840669824,
          0.5060100872023483,
          0.6043507490696725,
          null,
          -2.481001664122435,
          -2.310094612787244,
          -2.129893947744503,
          -1.9421276479525504,
          -1.7483074812161206,
          -1.5497290041863465,
          -1.3474715623607572,
          -1.1423982900832796,
          -0.9351561105442376,
          -0.726175735780353,
          -0.5157417721522979,
          -0.30429952880772254,
          -0.09212018605970901,
          0.12060168454691915,
          0.3337241581227721,
          0.5471372448795363,
          0.7607562246071633,
          0.9745185169405511,
          1.188372962312676,
          1.4022773791144059,
          1.6161917720733894,
          1.8301041927796649,
          2.044000234451967,
          2.2578568189181616,
          2.4716421966152424,
          2.6853159465893324,
          2.898828976495683,
          null,
          -0.953577829177809,
          -0.9190801478698498,
          -0.8709617672748817,
          -0.8099427836551862,
          -0.7369147573605044,
          -0.6529407128280373,
          -0.5592551385824467,
          -0.45726398723585326,
          -0.3485446754878381,
          -0.23484608412544244,
          -0.11808654087572851,
          -4.863216447326124e-07,
          0.11804011211092189,
          0.23486201339077445,
          0.3495877279796313,
          0.4616610900530807,
          0.570863525409576,
          0.6772719777708859,
          0.7812106154780905,
          0.8831885484251535,
          0.9839101240544379,
          1.0842212856636562,
          1.1849605859762609,
          1.2869582283008725,
          1.3910360665312793,
          1.4980076051464368,
          1.6086779992104674,
          null,
          -2.936940710392612,
          -2.7300034004848377,
          -2.5223668633868086,
          -2.314252743338824,
          -2.1058756008091137,
          -1.8974429124938352,
          -1.6891550713170767,
          -1.4812053864308534,
          -1.2737800832151112,
          -1.0670689642921594,
          -0.8613818280374084,
          -0.6570527525441912,
          -0.454437614264265,
          -0.25392895820423533,
          -0.05594111577302881,
          0.13910487307000918,
          0.3308143310668404,
          0.5188737309412035,
          0.7030436146240587,
          0.8832237844791984,
          1.0595631678173105,
          1.2323275185753526,
          1.401888998778535,
          1.5687261785403206,
          1.7334240360624251,
          1.8966739576348168,
          2.059273737635718,
          null
         ],
         "z": [
          0.9856336034696365,
          0.9009209442019056,
          0.821430875661828,
          0.7475883400719111,
          0.6797389292080342,
          0.618148884399449,
          0.5630050965287793,
          0.5144151060320213,
          0.47239741613391284,
          0.43665327333048165,
          0.4066943882463391,
          0.38193772935824877,
          0.3616719714981554,
          0.34510162928695487,
          0.3313863256287139,
          0.31967180280031104,
          0.30912220866872064,
          0.2989270898691464,
          0.2883230222270562,
          0.2765873648999697,
          0.2630467635964528,
          0.24707781093240813,
          0.228107046431075,
          0.2056109565230293,
          0.17911597454618375,
          0.14819848074578745,
          0.1124848022744265,
          null,
          0.17864241036570166,
          0.12515824693208893,
          0.07657693097049334,
          0.03251502164283113,
          -0.007404826925271307,
          -0.043553865644477135,
          -0.0762972504617394,
          -0.1059940423603008,
          -0.1329972073596938,
          -0.1576536165157406,
          -0.1802825289692352,
          -0.20108946413580847,
          -0.2202908875689812,
          -0.2380892750523372,
          -0.25466635562429374,
          -0.27018825901235827,
          -0.2848067869297837,
          -0.2986585840838982,
          -0.31187386427586694,
          -0.32458119995724394,
          -0.3369221095935893,
          -0.3489803700411284,
          -0.3608378258356375,
          -0.37258751455596567,
          -0.38433366682403464,
          -0.39619170630483863,
          -0.4082882497064446,
          null,
          0.7392624481086474,
          0.6544254617458609,
          0.5750885438757625,
          0.5017318731265912,
          0.4347135424453206,
          0.37426955909766024,
          0.3205138446680552,
          0.27343823505968545,
          0.23291248049446647,
          0.1986842455130493,
          0.17037912498211835,
          0.14750118459057174,
          0.12944880309872714,
          0.11554922574414027,
          0.10506519399946272,
          0.09721751367893232,
          0.09121013402749197,
          0.08625304391049453,
          0.08158335445869512,
          0.07647531991131687,
          0.07025131851406906,
          0.06227372162443685,
          0.05195423472154132,
          0.03875399195501056,
          0.02218355614497962,
          0.0018029187820905734,
          -0.022778499972507485,
          null,
          -0.08898909168810921,
          -0.10689625556851653,
          -0.12313149220861011,
          -0.13780487672233965,
          -0.15100776971171534,
          -0.1628128172668078,
          -0.1732739509657482,
          -0.18242638787472826,
          -0.1902866305480001,
          -0.19686138363164168,
          -0.2022388936309688,
          -0.20650382529162545,
          -0.20974519323842858,
          -0.21207080987332447,
          -0.21361809148860866,
          -0.21455987790697717,
          -0.21510668511934905,
          -0.21550844586622958,
          -0.21604135398608348,
          -0.21700206016316892,
          -0.21877553828090557,
          -0.22173567418746823,
          -0.22623632809698865,
          -0.23261133458955538,
          -0.24117450261121393,
          -0.25221961547396654,
          -0.26602043085577254,
          null
         ]
        }
       ],
       "layout": {
        "autosize": true,
        "height": 400,
        "margin": {
         "b": 32,
         "pad": 0,
         "r": 30,
         "t": 40
        },
        "scene": {
         "aspectmode": "cube",
         "camera": {
          "projection": {
           "type": "orthographic"
          }
         },
         "xaxis": {
          "range": [
           -2.5,
           2.5
          ],
          "title": {
           "text": "L/L_sc"
          }
         },
         "yaxis": {
          "range": [
           -2.5,
           2.5
          ],
          "title": {
           "text": "y"
          }
         },
         "zaxis": {
          "range": [
           -2.5,
           2.5
          ],
          "title": {
           "text": "N/N_sc"
          }
         }
        },
        "template": {
         "data": {
          "bar": [
           {
            "error_x": {
             "color": "#2a3f5f"
            },
            "error_y": {
             "color": "#2a3f5f"
            },
            "marker": {
             "line": {
              "color": "#E5ECF6",
              "width": 0.5
             }
            },
            "type": "bar"
           }
          ],
          "barpolar": [
           {
            "marker": {
             "line": {
              "color": "#E5ECF6",
              "width": 0.5
             }
            },
            "type": "barpolar"
           }
          ],
          "carpet": [
           {
            "aaxis": {
             "endlinecolor": "#2a3f5f",
             "gridcolor": "white",
             "linecolor": "white",
             "minorgridcolor": "white",
             "startlinecolor": "#2a3f5f"
            },
            "baxis": {
             "endlinecolor": "#2a3f5f",
             "gridcolor": "white",
             "linecolor": "white",
             "minorgridcolor": "white",
             "startlinecolor": "#2a3f5f"
            },
            "type": "carpet"
           }
          ],
          "choropleth": [
           {
            "colorbar": {
             "outlinewidth": 0,
             "ticks": ""
            },
            "type": "choropleth"
           }
          ],
          "contour": [
           {
            "colorbar": {
             "outlinewidth": 0,
             "ticks": ""
            },
            "colorscale": [
             [
              0,
              "#0d0887"
             ],
             [
              0.1111111111111111,
              "#46039f"
             ],
             [
              0.2222222222222222,
              "#7201a8"
             ],
             [
              0.3333333333333333,
              "#9c179e"
             ],
             [
              0.4444444444444444,
              "#bd3786"
             ],
             [
              0.5555555555555556,
              "#d8576b"
             ],
             [
              0.6666666666666666,
              "#ed7953"
             ],
             [
              0.7777777777777778,
              "#fb9f3a"
             ],
             [
              0.8888888888888888,
              "#fdca26"
             ],
             [
              1,
              "#f0f921"
             ]
            ],
            "type": "contour"
           }
          ],
          "contourcarpet": [
           {
            "colorbar": {
             "outlinewidth": 0,
             "ticks": ""
            },
            "type": "contourcarpet"
           }
          ],
          "heatmap": [
           {
            "colorbar": {
             "outlinewidth": 0,
             "ticks": ""
            },
            "colorscale": [
             [
              0,
              "#0d0887"
             ],
             [
              0.1111111111111111,
              "#46039f"
             ],
             [
              0.2222222222222222,
              "#7201a8"
             ],
             [
              0.3333333333333333,
              "#9c179e"
             ],
             [
              0.4444444444444444,
              "#bd3786"
             ],
             [
              0.5555555555555556,
              "#d8576b"
             ],
             [
              0.6666666666666666,
              "#ed7953"
             ],
             [
              0.7777777777777778,
              "#fb9f3a"
             ],
             [
              0.8888888888888888,
              "#fdca26"
             ],
             [
              1,
              "#f0f921"
             ]
            ],
            "type": "heatmap"
           }
          ],
          "heatmapgl": [
           {
            "colorbar": {
             "outlinewidth": 0,
             "ticks": ""
            },
            "colorscale": [
             [
              0,
              "#0d0887"
             ],
             [
              0.1111111111111111,
              "#46039f"
             ],
             [
              0.2222222222222222,
              "#7201a8"
             ],
             [
              0.3333333333333333,
              "#9c179e"
             ],
             [
              0.4444444444444444,
              "#bd3786"
             ],
             [
              0.5555555555555556,
              "#d8576b"
             ],
             [
              0.6666666666666666,
              "#ed7953"
             ],
             [
              0.7777777777777778,
              "#fb9f3a"
             ],
             [
              0.8888888888888888,
              "#fdca26"
             ],
             [
              1,
              "#f0f921"
             ]
            ],
            "type": "heatmapgl"
           }
          ],
          "histogram": [
           {
            "marker": {
             "colorbar": {
              "outlinewidth": 0,
              "ticks": ""
             }
            },
            "type": "histogram"
           }
          ],
          "histogram2d": [
           {
            "colorbar": {
             "outlinewidth": 0,
             "ticks": ""
            },
            "colorscale": [
             [
              0,
              "#0d0887"
             ],
             [
              0.1111111111111111,
              "#46039f"
             ],
             [
              0.2222222222222222,
              "#7201a8"
             ],
             [
              0.3333333333333333,
              "#9c179e"
             ],
             [
              0.4444444444444444,
              "#bd3786"
             ],
             [
              0.5555555555555556,
              "#d8576b"
             ],
             [
              0.6666666666666666,
              "#ed7953"
             ],
             [
              0.7777777777777778,
              "#fb9f3a"
             ],
             [
              0.8888888888888888,
              "#fdca26"
             ],
             [
              1,
              "#f0f921"
             ]
            ],
            "type": "histogram2d"
           }
          ],
          "histogram2dcontour": [
           {
            "colorbar": {
             "outlinewidth": 0,
             "ticks": ""
            },
            "colorscale": [
             [
              0,
              "#0d0887"
             ],
             [
              0.1111111111111111,
              "#46039f"
             ],
             [
              0.2222222222222222,
              "#7201a8"
             ],
             [
              0.3333333333333333,
              "#9c179e"
             ],
             [
              0.4444444444444444,
              "#bd3786"
             ],
             [
              0.5555555555555556,
              "#d8576b"
             ],
             [
              0.6666666666666666,
              "#ed7953"
             ],
             [
              0.7777777777777778,
              "#fb9f3a"
             ],
             [
              0.8888888888888888,
              "#fdca26"
             ],
             [
              1,
              "#f0f921"
             ]
            ],
            "type": "histogram2dcontour"
           }
          ],
          "mesh3d": [
           {
            "colorbar": {
             "outlinewidth": 0,
             "ticks": ""
            },
            "type": "mesh3d"
           }
          ],
          "parcoords": [
           {
            "line": {
             "colorbar": {
              "outlinewidth": 0,
              "ticks": ""
             }
            },
            "type": "parcoords"
           }
          ],
          "scatter": [
           {
            "marker": {
             "colorbar": {
              "outlinewidth": 0,
              "ticks": ""
             }
            },
            "type": "scatter"
           }
          ],
          "scatter3d": [
           {
            "line": {
             "colorbar": {
              "outlinewidth": 0,
              "ticks": ""
             }
            },
            "marker": {
             "colorbar": {
              "outlinewidth": 0,
              "ticks": ""
             }
            },
            "type": "scatter3d"
           }
          ],
          "scattercarpet": [
           {
            "marker": {
             "colorbar": {
              "outlinewidth": 0,
              "ticks": ""
             }
            },
            "type": "scattercarpet"
           }
          ],
          "scattergeo": [
           {
            "marker": {
             "colorbar": {
              "outlinewidth": 0,
              "ticks": ""
             }
            },
            "type": "scattergeo"
           }
          ],
          "scattergl": [
           {
            "marker": {
             "colorbar": {
              "outlinewidth": 0,
              "ticks": ""
             }
            },
            "type": "scattergl"
           }
          ],
          "scattermapbox": [
           {
            "marker": {
             "colorbar": {
              "outlinewidth": 0,
              "ticks": ""
             }
            },
            "type": "scattermapbox"
           }
          ],
          "scatterpolar": [
           {
            "marker": {
             "colorbar": {
              "outlinewidth": 0,
              "ticks": ""
             }
            },
            "type": "scatterpolar"
           }
          ],
          "scatterpolargl": [
           {
            "marker": {
             "colorbar": {
              "outlinewidth": 0,
              "ticks": ""
             }
            },
            "type": "scatterpolargl"
           }
          ],
          "scatterternary": [
           {
            "marker": {
             "colorbar": {
              "outlinewidth": 0,
              "ticks": ""
             }
            },
            "type": "scatterternary"
           }
          ],
          "surface": [
           {
            "colorbar": {
             "outlinewidth": 0,
             "ticks": ""
            },
            "colorscale": [
             [
              0,
              "#0d0887"
             ],
             [
              0.1111111111111111,
              "#46039f"
             ],
             [
              0.2222222222222222,
              "#7201a8"
             ],
             [
              0.3333333333333333,
              "#9c179e"
             ],
             [
              0.4444444444444444,
              "#bd3786"
             ],
             [
              0.5555555555555556,
              "#d8576b"
             ],
             [
              0.6666666666666666,
              "#ed7953"
             ],
             [
              0.7777777777777778,
              "#fb9f3a"
             ],
             [
              0.8888888888888888,
              "#fdca26"
             ],
             [
              1,
              "#f0f921"
             ]
            ],
            "type": "surface"
           }
          ],
          "table": [
           {
            "cells": {
             "fill": {
              "color": "#EBF0F8"
             },
             "line": {
              "color": "white"
             }
            },
            "header": {
             "fill": {
              "color": "#C8D4E3"
             },
             "line": {
              "color": "white"
             }
            },
            "type": "table"
           }
          ]
         },
         "layout": {
          "annotationdefaults": {
           "arrowcolor": "#2a3f5f",
           "arrowhead": 0,
           "arrowwidth": 1
          },
          "colorscale": {
           "diverging": [
            [
             0,
             "#8e0152"
            ],
            [
             0.1,
             "#c51b7d"
            ],
            [
             0.2,
             "#de77ae"
            ],
            [
             0.3,
             "#f1b6da"
            ],
            [
             0.4,
             "#fde0ef"
            ],
            [
             0.5,
             "#f7f7f7"
            ],
            [
             0.6,
             "#e6f5d0"
            ],
            [
             0.7,
             "#b8e186"
            ],
            [
             0.8,
             "#7fbc41"
            ],
            [
             0.9,
             "#4d9221"
            ],
            [
             1,
             "#276419"
            ]
           ],
           "sequential": [
            [
             0,
             "#0d0887"
            ],
            [
             0.1111111111111111,
             "#46039f"
            ],
            [
             0.2222222222222222,
             "#7201a8"
            ],
            [
             0.3333333333333333,
             "#9c179e"
            ],
            [
             0.4444444444444444,
             "#bd3786"
            ],
            [
             0.5555555555555556,
             "#d8576b"
            ],
            [
             0.6666666666666666,
             "#ed7953"
            ],
            [
             0.7777777777777778,
             "#fb9f3a"
            ],
            [
             0.8888888888888888,
             "#fdca26"
            ],
            [
             1,
             "#f0f921"
            ]
           ],
           "sequentialminus": [
            [
             0,
             "#0d0887"
            ],
            [
             0.1111111111111111,
             "#46039f"
            ],
            [
             0.2222222222222222,
             "#7201a8"
            ],
            [
             0.3333333333333333,
             "#9c179e"
            ],
            [
             0.4444444444444444,
             "#bd3786"
            ],
            [
             0.5555555555555556,
             "#d8576b"
            ],
            [
             0.6666666666666666,
             "#ed7953"
            ],
            [
             0.7777777777777778,
             "#fb9f3a"
            ],
            [
             0.8888888888888888,
             "#fdca26"
            ],
            [
             1,
             "#f0f921"
            ]
           ]
          },
          "colorway": [
           "#636efa",
           "#EF553B",
           "#00cc96",
           "#ab63fa",
           "#FFA15A",
           "#19d3f3",
           "#FF6692",
           "#B6E880",
           "#FF97FF",
           "#FECB52"
          ],
          "font": {
           "color": "#2a3f5f"
          },
          "geo": {
           "bgcolor": "white",
           "lakecolor": "white",
           "landcolor": "#E5ECF6",
           "showlakes": true,
           "showland": true,
           "subunitcolor": "white"
          },
          "hoverlabel": {
           "align": "left"
          },
          "hovermode": "closest",
          "mapbox": {
           "style": "light"
          },
          "paper_bgcolor": "white",
          "plot_bgcolor": "#E5ECF6",
          "polar": {
           "angularaxis": {
            "gridcolor": "white",
            "linecolor": "white",
            "ticks": ""
           },
           "bgcolor": "#E5ECF6",
           "radialaxis": {
            "gridcolor": "white",
            "linecolor": "white",
            "ticks": ""
           }
          },
          "scene": {
           "xaxis": {
            "backgroundcolor": "#E5ECF6",
            "gridcolor": "white",
            "gridwidth": 2,
            "linecolor": "white",
            "showbackground": true,
            "ticks": "",
            "zerolinecolor": "white"
           },
           "yaxis": {
            "backgroundcolor": "#E5ECF6",
            "gridcolor": "white",
            "gridwidth": 2,
            "linecolor": "white",
            "showbackground": true,
            "ticks": "",
            "zerolinecolor": "white"
           },
           "zaxis": {
            "backgroundcolor": "#E5ECF6",
            "gridcolor": "white",
            "gridwidth": 2,
            "linecolor": "white",
            "showbackground": true,
            "ticks": "",
            "zerolinecolor": "white"
           }
          },
          "shapedefaults": {
           "line": {
            "color": "#2a3f5f"
           }
          },
          "ternary": {
           "aaxis": {
            "gridcolor": "white",
            "linecolor": "white",
            "ticks": ""
           },
           "baxis": {
            "gridcolor": "white",
            "linecolor": "white",
            "ticks": ""
           },
           "bgcolor": "#E5ECF6",
           "caxis": {
            "gridcolor": "white",
            "linecolor": "white",
            "ticks": ""
           }
          },
          "title": {
           "x": 0.05
          },
          "xaxis": {
           "automargin": true,
           "gridcolor": "white",
           "linecolor": "white",
           "ticks": "",
           "zerolinecolor": "white",
           "zerolinewidth": 2
          },
          "yaxis": {
           "automargin": true,
           "gridcolor": "white",
           "linecolor": "white",
           "ticks": "",
           "zerolinecolor": "white",
           "zerolinewidth": 2
          }
         }
        },
        "title": {
         "text": "$\\vec{l}{\\left(s \\right)} = \\lambda{\\left(s \\right)}$"
        },
        "width": 700
       }
      },
      "text/html": [
       "<div>\n",
       "        \n",
       "        \n",
       "            <div id=\"bf9615f1-fbc7-4021-809f-d67397d09171\" class=\"plotly-graph-div\" style=\"height:400px; width:700px;\"></div>\n",
       "            <script type=\"text/javascript\">\n",
       "                require([\"plotly\"], function(Plotly) {\n",
       "                    window.PLOTLYENV=window.PLOTLYENV || {};\n",
       "                    \n",
       "                if (document.getElementById(\"bf9615f1-fbc7-4021-809f-d67397d09171\")) {\n",
       "                    Plotly.newPlot(\n",
       "                        'bf9615f1-fbc7-4021-809f-d67397d09171',\n",
       "                        [{\"cmax\": 1.0, \"cmin\": 0, \"colorscale\": [[0.0, \"rgb(255,245,240)\"], [0.125, \"rgb(254,224,210)\"], [0.25, \"rgb(252,187,161)\"], [0.375, \"rgb(252,146,114)\"], [0.5, \"rgb(251,106,74)\"], [0.625, \"rgb(239,59,44)\"], [0.75, \"rgb(203,24,29)\"], [0.875, \"rgb(165,15,21)\"], [1.0, \"rgb(103,0,13)\"]], \"hoverinfo\": \"x+y+z+u+v+w+norm\", \"type\": \"cone\", \"u\": [0.9104296734888514, 0.9231083348251243, 0.933109434785699, 0.9405798431763868, 0.9457660292941478, 0.9490131092817411, 0.9507512630218471, 0.9514654317037364, 0.951646137596141, 0.9516636488818835, 0.9517465544444441, 0.9519937545578743, 0.9523740619768464, 0.9527650075253636, 0.9529933684143577, 0.9528645193350799, 0.9521800466616255, 0.9507374216029267, 0.9483291725770163, 0.9447326222579884, 0.93970175646066, 0.9329625507648085, 0.9242109593322075, 0.9131131326087545, 0.8993066793600472, 0.8824010772225731, 0.8619746012913319, 0.5780214199073065, 0.5207904367243164, 0.46465268152071343, 0.4109421528020482, 0.36059992214866937, 0.31419009519761354, 0.2719545457658858, 0.23388387671246716, 0.19978826373596617, 0.16935912260772443, 0.14224383189064516, 0.11817641701017544, 0.09683946482866615, 0.07791195361656533, 0.06108969548876323, 0.04608090208981942, 0.03260845041166233, 0.020414655602510236, 0.009246030375209885, -0.0011541206425544417, -0.011072576615317893, -0.020687970785146115, -0.030181810056482787, -0.03976235683206489, -0.049661936925205936, -0.060133469076236915, -0.07144593948862267, 0.9039915199932395, 0.9033965772884943, 0.8989729186998603, 0.8911664167482468, 0.8807322538934498, 0.8687153639643513, 0.8563684493114093, 0.845009398313019, 0.8358419838862864, 0.8297792728631426, 0.8273106344414167, 0.828422220280648, 0.8326527638477791, 0.8392409694731287, 0.8472621525481222, 0.8557824142500938, 0.8639764364563657, 0.8711883524595396, 0.8769394166349874, 0.8808941704378618, 0.8828190975720894, 0.8825281918648908, 0.8798464147108415, 0.8745837877469083, 0.8665188022986232, 0.8553882040064705, 0.8408797452248518, 0.2518552575894932, 0.24017048287598203, 0.2319228602301344, 0.2270566058091446, 0.22554595538108288, 0.22739878754365206, 0.2326577911277479, 0.24139903361012816, 0.2537274460427918, 0.26974688534883356, 0.2893255023548483, 0.3122783290858836, 0.33833140328536615, 0.36707855023864744, 0.39795065109121497, 0.43021359652916247, 0.4629979757528587, 0.4953503826778935, 0.526326136863731, 0.5550611323252786, 0.580702924669087, 0.6026292266553686, 0.6204316521549958, 0.6338650144923468, 0.6427918997619635, 0.6471305761732973, 0.6468102549221502], \"v\": [-0.07565325938044047, -0.023959850712734557, 0.026135716649982144, 0.07383059180650799, 0.11828056149439993, 0.15864217243781106, 0.19413443994177182, 0.22411352458592965, 0.24815877015375026, 0.26638039027327304, 0.2793046907132045, 0.28774108076428473, 0.2927537980487937, 0.295530037352639, 0.29725661722420366, 0.2990271078547734, 0.3017757388789764, 0.30626243169644546, 0.3130600919039633, 0.32257748938545094, 0.33508195453499323, 0.3507188850649063, 0.36952936794173047, 0.3914657941286978, 0.41640642927126914, 0.4441701804964184, 0.4745325084352275, 0.7729409272988795, 0.8198637982348951, 0.8588046918304006, 0.890478795020996, 0.9157981522098677, 0.9357435618672918, 0.9512680432855257, 0.9632362632998166, 0.9723949665278138, 0.9793657725507519, 0.9846463922565052, 0.9886101923597854, 0.9915615630368717, 0.9937393795400574, 0.995327632193207, 0.9964673202218988, 0.9972651753452723, 0.9978006133832827, 0.9981320302697431, 0.9983007042830265, 0.9983334626897066, 0.9982437468705869, 0.9980363117841475, 0.9977069348778956, 0.9972412562994557, 0.9966132769806317, 0.9957834185008098, 0.12828743946149762, 0.19217597814034798, 0.25431144908531234, 0.31343129982252815, 0.3681939952781298, 0.41729041861022204, 0.4595740690923803, 0.4941809326785002, 0.5206136499460962, 0.5387802964553934, 0.5489961288492093, 0.551987545316193, 0.5488294213767574, 0.540836980691919, 0.5294990435015406, 0.5163631774823103, 0.5029125557422253, 0.4904611626353052, 0.4800843259985554, 0.4726003211207905, 0.4685716461448782, 0.4683516426630205, 0.4721216771318441, 0.47992721724970094, 0.4917090650552779, 0.5073292927641873, 0.5265927636220947, 0.9637445202341739, 0.9674068086163562, 0.9700088525562827, 0.9716710949606533, 0.9724641972776745, 0.972411397781815, 0.9714890086607156, 0.9696250535897711, 0.9666962223897824, 0.9625296350195074, 0.9569676456079703, 0.9498305418880049, 0.9409387090126132, 0.9301472195866729, 0.9173893682845451, 0.9027211139519968, 0.8863570686468536, 0.8686910265424796, 0.8502761045012756, 0.8317855644559228, 0.8140426694119873, 0.7978376571400483, 0.7838623369045288, 0.7726762404467663, 0.7646938946174994, 0.7601892402572871, 0.7593116258352379], \"w\": [-0.4066870959055613, -0.38379281875799826, -0.3586414742177837, -0.3314492454717382, -0.30254970931361114, -0.2724092133823923, -0.24162751310820796, -0.21091861077319454, -0.18107140468369012, -0.15289796295136718, -0.12715103557867777, -0.10446512204273359, -0.08531623410423245, -0.07000598158401708, -0.05866978161438432, -0.0513029878305038, -0.047797093672238375, -0.04797580739496594, -0.05162518083720045, -0.05851526111472314, -0.06841558776886422, -0.08109958402637465, -0.09634390940181849, -0.11392514684921422, -0.1336158004128139, -0.1551811511563872, -0.1783779279137984, -0.26163631444180185, -0.23790896023552172, -0.21576002142589162, -0.19538183812312981, -0.17686560026010006, -0.16021413952466362, -0.14536105001339916, -0.13219014062385245, -0.12055156052386845, -0.11027316602696512, -0.10118386484669585, -0.09318917332493683, -0.08618459699722154, -0.08007354766083397, -0.07477268015628508, -0.0702099009568907, -0.06632389467841489, -0.06306486952793754, -0.06039007428296033, -0.05826123783061896, -0.05663651932347476, -0.055510626897598274, -0.054886962951237135, -0.05477067715223178, -0.055168548604436964, -0.05608869799508849, -0.0575400831545198, -0.4078500516816506, -0.3833314721872363, -0.3566137662911836, -0.32799883833887383, -0.29789910841238243, -0.2668376340555999, -0.2354246249691064, -0.20431427394990603, -0.17415397056294957, -0.14554088936842643, -0.11899733042687582, -0.09500723530913463, -0.07399757487856243, -0.056302357622501346, -0.04216168628596603, -0.031710067812176036, -0.024973556514492325, -0.021879270674722392, -0.022277780015082602, -0.025969154108620128, -0.03272695205913363, -0.042317010510396415, -0.05451062742890252, -0.06908736753726617, -0.08583333038758291, -0.10453711852722154, -0.12498526061673403, -0.08812167124568107, -0.0802633527697071, -0.07276409049192858, -0.06557881499688555, -0.05867202931826142, -0.05201792852174924, -0.04560107760762982, -0.03941778815623461, -0.03347830255443789, -0.027808623731086352, -0.0224427927551969, -0.017440954104276877, -0.012892146160805517, -0.008915595878826512, -0.005659174370991218, -0.0032942050192538417, -0.002005320052311841, -0.001974534233012434, -0.0033680511036924435, -0.006317764202762907, -0.01089245873871222, -0.017119813960173567, -0.02498803287162133, -0.034446637741118606, -0.04540728064007397, -0.05774371289296508, -0.07129059544561851], \"x\": [-2.6547857830484443, -2.4581619769537864, -2.2591838327809537, -2.0584026723741284, -1.8563014555762272, -1.653294780228899, -1.449728882172527, -1.2458816352462272, -1.041959989180746, -0.8380349301343584, -0.6340976786129668, -0.4301282059701347, -0.2260914835270486, -0.021968327573350335, 0.1822245143309651, 0.38643184476872866, 0.5905556565930206, 0.7944461302713142, 0.9979141880513811, 1.2007549317053299, 1.4026963263325944, 1.6033969949685185, 1.8024462185843562, 1.9993639360872717, 2.1936007443203387, 2.3845378980625416, 2.5714873100287745, -1.3683073427413368, -1.2506487792825713, -1.1450963953608146, -1.0511426598815652, -0.9682036520643571, -0.895619061442761, -0.8326521878643837, -0.7784899414908675, -0.7322428427978913, -0.6929450225751701, -0.6596429779388052, -0.6317920947345996, -0.6088005616427676, -0.5901172600481457, -0.5752590171459244, -0.5638047330440494, -0.5553947111951295, -0.5497346542519882, -0.546577439490822, -0.5457129005025043, -0.5469368535966459, -0.5502089389953221, -0.5555427953426906, -0.5629787732085105, -0.5725839350881426, -0.584452055402549, -0.598703620498293, -2.409968326214117, -2.2159870238182293, -2.0222924372738507, -1.829915109300785, -1.6396108725719203, -1.45186084971323, -1.2668714533037744, -1.084574385875698, -0.9046266399142313, -0.7264104978576904, -0.549035805995566, -0.3716999589253826, -0.19377412012845024, -0.014675523968205068, 0.16600318726897292, 0.34847262609335944, 0.5327441585288499, 0.7186743150382332, 0.9060051032612835, 1.0943711403382044, 1.2833660250112995, 1.4725517816985167, 1.661439497185364, 1.8494892430192578, 2.036110075509521, 2.2206600357273865, 2.402446149505993, -0.09232031594615436, -0.03965899753212371, 0.010853573398972638, 0.05995014561964196, 0.10836412493411243, 0.15682957417833332, 0.2060812132199748, 0.2568544189584283, 0.3098852253248061, 0.36591653023031034, 0.4257537978206307, 0.4901562792087799, 0.5598125569897509, 0.635347313404, 0.7172817265450142, 0.8059953788168567, 0.9016972430262419, 1.0043944204261814, 1.113900994472594, 1.2298177057193314, 1.3515185729044468, 1.478294957501841, 1.6093653588039092, 1.7438754139215389, 1.880897897784111, 2.0194327231395, 2.158406940554073], \"y\": [-0.8503002439940072, -0.8609563803283785, -0.8607039532252081, -0.8499822368507829, -0.8293952747954926, -0.79971188007383, -0.7618656351243906, -0.7169548918098734, -0.6662383752752148, -0.6110052643607055, -0.552456632340598, -0.49163159690910424, -0.42938292789816807, -0.3663247295422063, -0.30280291685915284, -0.23892155473970447, -0.17457666238467484, -0.10949369439656104, -0.04324268454418524, 0.024795204161412954, 0.09524948688229129, 0.16875268229214246, 0.24594031257629412, 0.32745090343170835, 0.4139259840669824, 0.5060100872023483, 0.6043507490696725, -2.481001664122435, -2.310094612787244, -2.129893947744503, -1.9421276479525504, -1.7483074812161206, -1.5497290041863465, -1.3474715623607572, -1.1423982900832796, -0.9351561105442376, -0.726175735780353, -0.5157417721522979, -0.30429952880772254, -0.09212018605970901, 0.12060168454691915, 0.3337241581227721, 0.5471372448795363, 0.7607562246071633, 0.9745185169405511, 1.188372962312676, 1.4022773791144059, 1.6161917720733894, 1.8301041927796649, 2.044000234451967, 2.2578568189181616, 2.4716421966152424, 2.6853159465893324, 2.898828976495683, -0.953577829177809, -0.9190801478698498, -0.8709617672748817, -0.8099427836551862, -0.7369147573605044, -0.6529407128280373, -0.5592551385824467, -0.45726398723585326, -0.3485446754878381, -0.23484608412544244, -0.11808654087572851, -4.863216447326124e-07, 0.11804011211092189, 0.23486201339077445, 0.3495877279796313, 0.4616610900530807, 0.570863525409576, 0.6772719777708859, 0.7812106154780905, 0.8831885484251535, 0.9839101240544379, 1.0842212856636562, 1.1849605859762609, 1.2869582283008725, 1.3910360665312793, 1.4980076051464368, 1.6086779992104674, -2.936940710392612, -2.7300034004848377, -2.5223668633868086, -2.314252743338824, -2.1058756008091137, -1.8974429124938352, -1.6891550713170767, -1.4812053864308534, -1.2737800832151112, -1.0670689642921594, -0.8613818280374084, -0.6570527525441912, -0.454437614264265, -0.25392895820423533, -0.05594111577302881, 0.13910487307000918, 0.3308143310668404, 0.5188737309412035, 0.7030436146240587, 0.8832237844791984, 1.0595631678173105, 1.2323275185753526, 1.401888998778535, 1.5687261785403206, 1.7334240360624251, 1.8966739576348168, 2.059273737635718], \"z\": [0.9856336034696365, 0.9009209442019056, 0.821430875661828, 0.7475883400719111, 0.6797389292080342, 0.618148884399449, 0.5630050965287793, 0.5144151060320213, 0.47239741613391284, 0.43665327333048165, 0.4066943882463391, 0.38193772935824877, 0.3616719714981554, 0.34510162928695487, 0.3313863256287139, 0.31967180280031104, 0.30912220866872064, 0.2989270898691464, 0.2883230222270562, 0.2765873648999697, 0.2630467635964528, 0.24707781093240813, 0.228107046431075, 0.2056109565230293, 0.17911597454618375, 0.14819848074578745, 0.1124848022744265, 0.17864241036570166, 0.12515824693208893, 0.07657693097049334, 0.03251502164283113, -0.007404826925271307, -0.043553865644477135, -0.0762972504617394, -0.1059940423603008, -0.1329972073596938, -0.1576536165157406, -0.1802825289692352, -0.20108946413580847, -0.2202908875689812, -0.2380892750523372, -0.25466635562429374, -0.27018825901235827, -0.2848067869297837, -0.2986585840838982, -0.31187386427586694, -0.32458119995724394, -0.3369221095935893, -0.3489803700411284, -0.3608378258356375, -0.37258751455596567, -0.38433366682403464, -0.39619170630483863, -0.4082882497064446, 0.7392624481086474, 0.6544254617458609, 0.5750885438757625, 0.5017318731265912, 0.4347135424453206, 0.37426955909766024, 0.3205138446680552, 0.27343823505968545, 0.23291248049446647, 0.1986842455130493, 0.17037912498211835, 0.14750118459057174, 0.12944880309872714, 0.11554922574414027, 0.10506519399946272, 0.09721751367893232, 0.09121013402749197, 0.08625304391049453, 0.08158335445869512, 0.07647531991131687, 0.07025131851406906, 0.06227372162443685, 0.05195423472154132, 0.03875399195501056, 0.02218355614497962, 0.0018029187820905734, -0.022778499972507485, -0.08898909168810921, -0.10689625556851653, -0.12313149220861011, -0.13780487672233965, -0.15100776971171534, -0.1628128172668078, -0.1732739509657482, -0.18242638787472826, -0.1902866305480001, -0.19686138363164168, -0.2022388936309688, -0.20650382529162545, -0.20974519323842858, -0.21207080987332447, -0.21361809148860866, -0.21455987790697717, -0.21510668511934905, -0.21550844586622958, -0.21604135398608348, -0.21700206016316892, -0.21877553828090557, -0.22173567418746823, -0.22623632809698865, -0.23261133458955538, -0.24117450261121393, -0.25221961547396654, -0.26602043085577254]}, {\"mode\": \"lines\", \"text\": [\"s:-2.571428571428571j\", \"s:-2.357142857142857j\", \"s:-2.142857142857143j\", \"s:-1.9285714285714284j\", \"s:-1.7142857142857142j\", \"s:-1.5j\", \"s:-1.2857142857142856j\", \"s:-1.0714285714285714j\", \"s:-0.8571428571428571j\", \"s:-0.6428571428571428j\", \"s:-0.42857142857142855j\", \"s:-0.21428571428571427j\", \"s:0j\", \"s:0.21428571428571427j\", \"s:0.42857142857142855j\", \"s:0.6428571428571428j\", \"s:0.8571428571428571j\", \"s:1.0714285714285714j\", \"s:1.2857142857142856j\", \"s:1.5j\", \"s:1.7142857142857142j\", \"s:1.9285714285714284j\", \"s:2.142857142857143j\", \"s:2.357142857142857j\", \"s:2.571428571428571j\", \"s:2.7857142857142856j\", \"s:3j\", \"s:(1-3j)\", \"s:nan\", \"s:-2.571428571428571j\", \"s:-2.357142857142857j\", \"s:-2.142857142857143j\", \"s:-1.9285714285714284j\", \"s:-1.7142857142857142j\", \"s:-1.5j\", \"s:-1.2857142857142856j\", \"s:-1.0714285714285714j\", \"s:-0.8571428571428571j\", \"s:-0.6428571428571428j\", \"s:-0.42857142857142855j\", \"s:-0.21428571428571427j\", \"s:0j\", \"s:0.21428571428571427j\", \"s:0.42857142857142855j\", \"s:0.6428571428571428j\", \"s:0.8571428571428571j\", \"s:1.0714285714285714j\", \"s:1.2857142857142856j\", \"s:1.5j\", \"s:1.7142857142857142j\", \"s:1.9285714285714284j\", \"s:2.142857142857143j\", \"s:2.357142857142857j\", \"s:2.571428571428571j\", \"s:2.7857142857142856j\", \"s:3j\", \"s:(1-3j)\", \"s:nan\", \"s:-2.571428571428571j\", \"s:-2.357142857142857j\", \"s:-2.142857142857143j\", \"s:-1.9285714285714284j\", \"s:-1.7142857142857142j\", \"s:-1.5j\", \"s:-1.2857142857142856j\", \"s:-1.0714285714285714j\", \"s:-0.8571428571428571j\", \"s:-0.6428571428571428j\", \"s:-0.42857142857142855j\", \"s:-0.21428571428571427j\", \"s:0j\", \"s:0.21428571428571427j\", \"s:0.42857142857142855j\", \"s:0.6428571428571428j\", \"s:0.8571428571428571j\", \"s:1.0714285714285714j\", \"s:1.2857142857142856j\", \"s:1.5j\", \"s:1.7142857142857142j\", \"s:1.9285714285714284j\", \"s:2.142857142857143j\", \"s:2.357142857142857j\", \"s:2.571428571428571j\", \"s:2.7857142857142856j\", \"s:3j\", \"s:(1-3j)\", \"s:nan\", \"s:-2.571428571428571j\", \"s:-2.357142857142857j\", \"s:-2.142857142857143j\", \"s:-1.9285714285714284j\", \"s:-1.7142857142857142j\", \"s:-1.5j\", \"s:-1.2857142857142856j\", \"s:-1.0714285714285714j\", \"s:-0.8571428571428571j\", \"s:-0.6428571428571428j\", \"s:-0.42857142857142855j\", \"s:-0.21428571428571427j\", \"s:0j\", \"s:0.21428571428571427j\", \"s:0.42857142857142855j\", \"s:0.6428571428571428j\", \"s:0.8571428571428571j\", \"s:1.0714285714285714j\", \"s:1.2857142857142856j\", \"s:1.5j\", \"s:1.7142857142857142j\", \"s:1.9285714285714284j\", \"s:2.142857142857143j\", \"s:2.357142857142857j\", \"s:2.571428571428571j\", \"s:2.7857142857142856j\", \"s:3j\", \"s:(1-3j)\", \"s:nan\"], \"type\": \"scatter3d\", \"x\": [-2.6547857830484443, -2.4581619769537864, -2.2591838327809537, -2.0584026723741284, -1.8563014555762272, -1.653294780228899, -1.449728882172527, -1.2458816352462272, -1.041959989180746, -0.8380349301343584, -0.6340976786129668, -0.4301282059701347, -0.2260914835270486, -0.021968327573350335, 0.1822245143309651, 0.38643184476872866, 0.5905556565930206, 0.7944461302713142, 0.9979141880513811, 1.2007549317053299, 1.4026963263325944, 1.6033969949685185, 1.8024462185843562, 1.9993639360872717, 2.1936007443203387, 2.3845378980625416, 2.5714873100287745, null, -1.3683073427413368, -1.2506487792825713, -1.1450963953608146, -1.0511426598815652, -0.9682036520643571, -0.895619061442761, -0.8326521878643837, -0.7784899414908675, -0.7322428427978913, -0.6929450225751701, -0.6596429779388052, -0.6317920947345996, -0.6088005616427676, -0.5901172600481457, -0.5752590171459244, -0.5638047330440494, -0.5553947111951295, -0.5497346542519882, -0.546577439490822, -0.5457129005025043, -0.5469368535966459, -0.5502089389953221, -0.5555427953426906, -0.5629787732085105, -0.5725839350881426, -0.584452055402549, -0.598703620498293, null, -2.409968326214117, -2.2159870238182293, -2.0222924372738507, -1.829915109300785, -1.6396108725719203, -1.45186084971323, -1.2668714533037744, -1.084574385875698, -0.9046266399142313, -0.7264104978576904, -0.549035805995566, -0.3716999589253826, -0.19377412012845024, -0.014675523968205068, 0.16600318726897292, 0.34847262609335944, 0.5327441585288499, 0.7186743150382332, 0.9060051032612835, 1.0943711403382044, 1.2833660250112995, 1.4725517816985167, 1.661439497185364, 1.8494892430192578, 2.036110075509521, 2.2206600357273865, 2.402446149505993, null, -0.09232031594615436, -0.03965899753212371, 0.010853573398972638, 0.05995014561964196, 0.10836412493411243, 0.15682957417833332, 0.2060812132199748, 0.2568544189584283, 0.3098852253248061, 0.36591653023031034, 0.4257537978206307, 0.4901562792087799, 0.5598125569897509, 0.635347313404, 0.7172817265450142, 0.8059953788168567, 0.9016972430262419, 1.0043944204261814, 1.113900994472594, 1.2298177057193314, 1.3515185729044468, 1.478294957501841, 1.6093653588039092, 1.7438754139215389, 1.880897897784111, 2.0194327231395, 2.158406940554073, null], \"y\": [-0.8503002439940072, -0.8609563803283785, -0.8607039532252081, -0.8499822368507829, -0.8293952747954926, -0.79971188007383, -0.7618656351243906, -0.7169548918098734, -0.6662383752752148, -0.6110052643607055, -0.552456632340598, -0.49163159690910424, -0.42938292789816807, -0.3663247295422063, -0.30280291685915284, -0.23892155473970447, -0.17457666238467484, -0.10949369439656104, -0.04324268454418524, 0.024795204161412954, 0.09524948688229129, 0.16875268229214246, 0.24594031257629412, 0.32745090343170835, 0.4139259840669824, 0.5060100872023483, 0.6043507490696725, null, -2.481001664122435, -2.310094612787244, -2.129893947744503, -1.9421276479525504, -1.7483074812161206, -1.5497290041863465, -1.3474715623607572, -1.1423982900832796, -0.9351561105442376, -0.726175735780353, -0.5157417721522979, -0.30429952880772254, -0.09212018605970901, 0.12060168454691915, 0.3337241581227721, 0.5471372448795363, 0.7607562246071633, 0.9745185169405511, 1.188372962312676, 1.4022773791144059, 1.6161917720733894, 1.8301041927796649, 2.044000234451967, 2.2578568189181616, 2.4716421966152424, 2.6853159465893324, 2.898828976495683, null, -0.953577829177809, -0.9190801478698498, -0.8709617672748817, -0.8099427836551862, -0.7369147573605044, -0.6529407128280373, -0.5592551385824467, -0.45726398723585326, -0.3485446754878381, -0.23484608412544244, -0.11808654087572851, -4.863216447326124e-07, 0.11804011211092189, 0.23486201339077445, 0.3495877279796313, 0.4616610900530807, 0.570863525409576, 0.6772719777708859, 0.7812106154780905, 0.8831885484251535, 0.9839101240544379, 1.0842212856636562, 1.1849605859762609, 1.2869582283008725, 1.3910360665312793, 1.4980076051464368, 1.6086779992104674, null, -2.936940710392612, -2.7300034004848377, -2.5223668633868086, -2.314252743338824, -2.1058756008091137, -1.8974429124938352, -1.6891550713170767, -1.4812053864308534, -1.2737800832151112, -1.0670689642921594, -0.8613818280374084, -0.6570527525441912, -0.454437614264265, -0.25392895820423533, -0.05594111577302881, 0.13910487307000918, 0.3308143310668404, 0.5188737309412035, 0.7030436146240587, 0.8832237844791984, 1.0595631678173105, 1.2323275185753526, 1.401888998778535, 1.5687261785403206, 1.7334240360624251, 1.8966739576348168, 2.059273737635718, null], \"z\": [0.9856336034696365, 0.9009209442019056, 0.821430875661828, 0.7475883400719111, 0.6797389292080342, 0.618148884399449, 0.5630050965287793, 0.5144151060320213, 0.47239741613391284, 0.43665327333048165, 0.4066943882463391, 0.38193772935824877, 0.3616719714981554, 0.34510162928695487, 0.3313863256287139, 0.31967180280031104, 0.30912220866872064, 0.2989270898691464, 0.2883230222270562, 0.2765873648999697, 0.2630467635964528, 0.24707781093240813, 0.228107046431075, 0.2056109565230293, 0.17911597454618375, 0.14819848074578745, 0.1124848022744265, null, 0.17864241036570166, 0.12515824693208893, 0.07657693097049334, 0.03251502164283113, -0.007404826925271307, -0.043553865644477135, -0.0762972504617394, -0.1059940423603008, -0.1329972073596938, -0.1576536165157406, -0.1802825289692352, -0.20108946413580847, -0.2202908875689812, -0.2380892750523372, -0.25466635562429374, -0.27018825901235827, -0.2848067869297837, -0.2986585840838982, -0.31187386427586694, -0.32458119995724394, -0.3369221095935893, -0.3489803700411284, -0.3608378258356375, -0.37258751455596567, -0.38433366682403464, -0.39619170630483863, -0.4082882497064446, null, 0.7392624481086474, 0.6544254617458609, 0.5750885438757625, 0.5017318731265912, 0.4347135424453206, 0.37426955909766024, 0.3205138446680552, 0.27343823505968545, 0.23291248049446647, 0.1986842455130493, 0.17037912498211835, 0.14750118459057174, 0.12944880309872714, 0.11554922574414027, 0.10506519399946272, 0.09721751367893232, 0.09121013402749197, 0.08625304391049453, 0.08158335445869512, 0.07647531991131687, 0.07025131851406906, 0.06227372162443685, 0.05195423472154132, 0.03875399195501056, 0.02218355614497962, 0.0018029187820905734, -0.022778499972507485, null, -0.08898909168810921, -0.10689625556851653, -0.12313149220861011, -0.13780487672233965, -0.15100776971171534, -0.1628128172668078, -0.1732739509657482, -0.18242638787472826, -0.1902866305480001, -0.19686138363164168, -0.2022388936309688, -0.20650382529162545, -0.20974519323842858, -0.21207080987332447, -0.21361809148860866, -0.21455987790697717, -0.21510668511934905, -0.21550844586622958, -0.21604135398608348, -0.21700206016316892, -0.21877553828090557, -0.22173567418746823, -0.22623632809698865, -0.23261133458955538, -0.24117450261121393, -0.25221961547396654, -0.26602043085577254, null]}],\n",
       "                        {\"autosize\": true, \"height\": 400, \"margin\": {\"b\": 32, \"pad\": 0, \"r\": 30, \"t\": 40}, \"scene\": {\"aspectmode\": \"cube\", \"camera\": {\"projection\": {\"type\": \"orthographic\"}}, \"xaxis\": {\"range\": [-2.5, 2.5], \"title\": {\"text\": \"L/L_sc\"}}, \"yaxis\": {\"range\": [-2.5, 2.5], \"title\": {\"text\": \"y\"}}, \"zaxis\": {\"range\": [-2.5, 2.5], \"title\": {\"text\": \"N/N_sc\"}}}, \"template\": {\"data\": {\"bar\": [{\"error_x\": {\"color\": \"#2a3f5f\"}, \"error_y\": {\"color\": \"#2a3f5f\"}, \"marker\": {\"line\": {\"color\": \"#E5ECF6\", \"width\": 0.5}}, \"type\": \"bar\"}], \"barpolar\": [{\"marker\": {\"line\": {\"color\": \"#E5ECF6\", \"width\": 0.5}}, \"type\": \"barpolar\"}], \"carpet\": [{\"aaxis\": {\"endlinecolor\": \"#2a3f5f\", \"gridcolor\": \"white\", \"linecolor\": \"white\", \"minorgridcolor\": \"white\", \"startlinecolor\": \"#2a3f5f\"}, \"baxis\": {\"endlinecolor\": \"#2a3f5f\", \"gridcolor\": \"white\", \"linecolor\": \"white\", \"minorgridcolor\": \"white\", \"startlinecolor\": \"#2a3f5f\"}, \"type\": \"carpet\"}], \"choropleth\": [{\"colorbar\": {\"outlinewidth\": 0, \"ticks\": \"\"}, \"type\": \"choropleth\"}], \"contour\": [{\"colorbar\": {\"outlinewidth\": 0, \"ticks\": \"\"}, \"colorscale\": [[0.0, \"#0d0887\"], [0.1111111111111111, \"#46039f\"], [0.2222222222222222, \"#7201a8\"], [0.3333333333333333, \"#9c179e\"], [0.4444444444444444, \"#bd3786\"], [0.5555555555555556, \"#d8576b\"], [0.6666666666666666, \"#ed7953\"], [0.7777777777777778, \"#fb9f3a\"], [0.8888888888888888, \"#fdca26\"], [1.0, \"#f0f921\"]], \"type\": \"contour\"}], \"contourcarpet\": [{\"colorbar\": {\"outlinewidth\": 0, \"ticks\": \"\"}, \"type\": \"contourcarpet\"}], \"heatmap\": [{\"colorbar\": {\"outlinewidth\": 0, \"ticks\": \"\"}, \"colorscale\": [[0.0, \"#0d0887\"], [0.1111111111111111, \"#46039f\"], [0.2222222222222222, \"#7201a8\"], [0.3333333333333333, \"#9c179e\"], [0.4444444444444444, \"#bd3786\"], [0.5555555555555556, \"#d8576b\"], [0.6666666666666666, \"#ed7953\"], [0.7777777777777778, \"#fb9f3a\"], [0.8888888888888888, \"#fdca26\"], [1.0, \"#f0f921\"]], \"type\": \"heatmap\"}], \"heatmapgl\": [{\"colorbar\": {\"outlinewidth\": 0, \"ticks\": \"\"}, \"colorscale\": [[0.0, \"#0d0887\"], [0.1111111111111111, \"#46039f\"], [0.2222222222222222, \"#7201a8\"], [0.3333333333333333, \"#9c179e\"], [0.4444444444444444, \"#bd3786\"], [0.5555555555555556, \"#d8576b\"], [0.6666666666666666, \"#ed7953\"], [0.7777777777777778, \"#fb9f3a\"], [0.8888888888888888, \"#fdca26\"], [1.0, \"#f0f921\"]], \"type\": \"heatmapgl\"}], \"histogram\": [{\"marker\": {\"colorbar\": {\"outlinewidth\": 0, \"ticks\": \"\"}}, \"type\": \"histogram\"}], \"histogram2d\": [{\"colorbar\": {\"outlinewidth\": 0, \"ticks\": \"\"}, \"colorscale\": [[0.0, \"#0d0887\"], [0.1111111111111111, \"#46039f\"], [0.2222222222222222, \"#7201a8\"], [0.3333333333333333, \"#9c179e\"], [0.4444444444444444, \"#bd3786\"], [0.5555555555555556, \"#d8576b\"], [0.6666666666666666, \"#ed7953\"], [0.7777777777777778, \"#fb9f3a\"], [0.8888888888888888, \"#fdca26\"], [1.0, \"#f0f921\"]], \"type\": \"histogram2d\"}], \"histogram2dcontour\": [{\"colorbar\": {\"outlinewidth\": 0, \"ticks\": \"\"}, \"colorscale\": [[0.0, \"#0d0887\"], [0.1111111111111111, \"#46039f\"], [0.2222222222222222, \"#7201a8\"], [0.3333333333333333, \"#9c179e\"], [0.4444444444444444, \"#bd3786\"], [0.5555555555555556, \"#d8576b\"], [0.6666666666666666, \"#ed7953\"], [0.7777777777777778, \"#fb9f3a\"], [0.8888888888888888, \"#fdca26\"], [1.0, \"#f0f921\"]], \"type\": \"histogram2dcontour\"}], \"mesh3d\": [{\"colorbar\": {\"outlinewidth\": 0, \"ticks\": \"\"}, \"type\": \"mesh3d\"}], \"parcoords\": [{\"line\": {\"colorbar\": {\"outlinewidth\": 0, \"ticks\": \"\"}}, \"type\": \"parcoords\"}], \"scatter\": [{\"marker\": {\"colorbar\": {\"outlinewidth\": 0, \"ticks\": \"\"}}, \"type\": \"scatter\"}], \"scatter3d\": [{\"line\": {\"colorbar\": {\"outlinewidth\": 0, \"ticks\": \"\"}}, \"marker\": {\"colorbar\": {\"outlinewidth\": 0, \"ticks\": \"\"}}, \"type\": \"scatter3d\"}], \"scattercarpet\": [{\"marker\": {\"colorbar\": {\"outlinewidth\": 0, \"ticks\": \"\"}}, \"type\": \"scattercarpet\"}], \"scattergeo\": [{\"marker\": {\"colorbar\": {\"outlinewidth\": 0, \"ticks\": \"\"}}, \"type\": \"scattergeo\"}], \"scattergl\": [{\"marker\": {\"colorbar\": {\"outlinewidth\": 0, \"ticks\": \"\"}}, \"type\": \"scattergl\"}], \"scattermapbox\": [{\"marker\": {\"colorbar\": {\"outlinewidth\": 0, \"ticks\": \"\"}}, \"type\": \"scattermapbox\"}], \"scatterpolar\": [{\"marker\": {\"colorbar\": {\"outlinewidth\": 0, \"ticks\": \"\"}}, \"type\": \"scatterpolar\"}], \"scatterpolargl\": [{\"marker\": {\"colorbar\": {\"outlinewidth\": 0, \"ticks\": \"\"}}, \"type\": \"scatterpolargl\"}], \"scatterternary\": [{\"marker\": {\"colorbar\": {\"outlinewidth\": 0, \"ticks\": \"\"}}, \"type\": \"scatterternary\"}], \"surface\": [{\"colorbar\": {\"outlinewidth\": 0, \"ticks\": \"\"}, \"colorscale\": [[0.0, \"#0d0887\"], [0.1111111111111111, \"#46039f\"], [0.2222222222222222, \"#7201a8\"], [0.3333333333333333, \"#9c179e\"], [0.4444444444444444, \"#bd3786\"], [0.5555555555555556, \"#d8576b\"], [0.6666666666666666, \"#ed7953\"], [0.7777777777777778, \"#fb9f3a\"], [0.8888888888888888, \"#fdca26\"], [1.0, \"#f0f921\"]], \"type\": \"surface\"}], \"table\": [{\"cells\": {\"fill\": {\"color\": \"#EBF0F8\"}, \"line\": {\"color\": \"white\"}}, \"header\": {\"fill\": {\"color\": \"#C8D4E3\"}, \"line\": {\"color\": \"white\"}}, \"type\": \"table\"}]}, \"layout\": {\"annotationdefaults\": {\"arrowcolor\": \"#2a3f5f\", \"arrowhead\": 0, \"arrowwidth\": 1}, \"colorscale\": {\"diverging\": [[0, \"#8e0152\"], [0.1, \"#c51b7d\"], [0.2, \"#de77ae\"], [0.3, \"#f1b6da\"], [0.4, \"#fde0ef\"], [0.5, \"#f7f7f7\"], [0.6, \"#e6f5d0\"], [0.7, \"#b8e186\"], [0.8, \"#7fbc41\"], [0.9, \"#4d9221\"], [1, \"#276419\"]], \"sequential\": [[0.0, \"#0d0887\"], [0.1111111111111111, \"#46039f\"], [0.2222222222222222, \"#7201a8\"], [0.3333333333333333, \"#9c179e\"], [0.4444444444444444, \"#bd3786\"], [0.5555555555555556, \"#d8576b\"], [0.6666666666666666, \"#ed7953\"], [0.7777777777777778, \"#fb9f3a\"], [0.8888888888888888, \"#fdca26\"], [1.0, \"#f0f921\"]], \"sequentialminus\": [[0.0, \"#0d0887\"], [0.1111111111111111, \"#46039f\"], [0.2222222222222222, \"#7201a8\"], [0.3333333333333333, \"#9c179e\"], [0.4444444444444444, \"#bd3786\"], [0.5555555555555556, \"#d8576b\"], [0.6666666666666666, \"#ed7953\"], [0.7777777777777778, \"#fb9f3a\"], [0.8888888888888888, \"#fdca26\"], [1.0, \"#f0f921\"]]}, \"colorway\": [\"#636efa\", \"#EF553B\", \"#00cc96\", \"#ab63fa\", \"#FFA15A\", \"#19d3f3\", \"#FF6692\", \"#B6E880\", \"#FF97FF\", \"#FECB52\"], \"font\": {\"color\": \"#2a3f5f\"}, \"geo\": {\"bgcolor\": \"white\", \"lakecolor\": \"white\", \"landcolor\": \"#E5ECF6\", \"showlakes\": true, \"showland\": true, \"subunitcolor\": \"white\"}, \"hoverlabel\": {\"align\": \"left\"}, \"hovermode\": \"closest\", \"mapbox\": {\"style\": \"light\"}, \"paper_bgcolor\": \"white\", \"plot_bgcolor\": \"#E5ECF6\", \"polar\": {\"angularaxis\": {\"gridcolor\": \"white\", \"linecolor\": \"white\", \"ticks\": \"\"}, \"bgcolor\": \"#E5ECF6\", \"radialaxis\": {\"gridcolor\": \"white\", \"linecolor\": \"white\", \"ticks\": \"\"}}, \"scene\": {\"xaxis\": {\"backgroundcolor\": \"#E5ECF6\", \"gridcolor\": \"white\", \"gridwidth\": 2, \"linecolor\": \"white\", \"showbackground\": true, \"ticks\": \"\", \"zerolinecolor\": \"white\"}, \"yaxis\": {\"backgroundcolor\": \"#E5ECF6\", \"gridcolor\": \"white\", \"gridwidth\": 2, \"linecolor\": \"white\", \"showbackground\": true, \"ticks\": \"\", \"zerolinecolor\": \"white\"}, \"zaxis\": {\"backgroundcolor\": \"#E5ECF6\", \"gridcolor\": \"white\", \"gridwidth\": 2, \"linecolor\": \"white\", \"showbackground\": true, \"ticks\": \"\", \"zerolinecolor\": \"white\"}}, \"shapedefaults\": {\"line\": {\"color\": \"#2a3f5f\"}}, \"ternary\": {\"aaxis\": {\"gridcolor\": \"white\", \"linecolor\": \"white\", \"ticks\": \"\"}, \"baxis\": {\"gridcolor\": \"white\", \"linecolor\": \"white\", \"ticks\": \"\"}, \"bgcolor\": \"#E5ECF6\", \"caxis\": {\"gridcolor\": \"white\", \"linecolor\": \"white\", \"ticks\": \"\"}}, \"title\": {\"x\": 0.05}, \"xaxis\": {\"automargin\": true, \"gridcolor\": \"white\", \"linecolor\": \"white\", \"ticks\": \"\", \"zerolinecolor\": \"white\", \"zerolinewidth\": 2}, \"yaxis\": {\"automargin\": true, \"gridcolor\": \"white\", \"linecolor\": \"white\", \"ticks\": \"\", \"zerolinecolor\": \"white\", \"zerolinewidth\": 2}}}, \"title\": {\"text\": \"$\\\\vec{l}{\\\\left(s \\\\right)} = \\\\lambda{\\\\left(s \\\\right)}$\"}, \"width\": 700},\n",
       "                        {\"responsive\": true}\n",
       "                    ).then(function(){\n",
       "                            \n",
       "var gd = document.getElementById('bf9615f1-fbc7-4021-809f-d67397d09171');\n",
       "var x = new MutationObserver(function (mutations, observer) {{\n",
       "        var display = window.getComputedStyle(gd).display;\n",
       "        if (!display || display === 'none') {{\n",
       "            console.log([gd, 'removed!']);\n",
       "            Plotly.purge(gd);\n",
       "            observer.disconnect();\n",
       "        }}\n",
       "}});\n",
       "\n",
       "// Listen for the removal of the full notebook cells\n",
       "var notebookContainer = gd.closest('#notebook-container');\n",
       "if (notebookContainer) {{\n",
       "    x.observe(notebookContainer, {childList: true});\n",
       "}}\n",
       "\n",
       "// Listen for the clearing of the current output cell\n",
       "var outputEl = gd.closest('.output');\n",
       "if (outputEl) {{\n",
       "    x.observe(outputEl, {childList: true});\n",
       "}}\n",
       "\n",
       "                        })\n",
       "                };\n",
       "                });\n",
       "            </script>\n",
       "        </div>"
      ]
     },
     "metadata": {},
     "output_type": "display_data"
    }
   ],
   "source": [
    "# use iplot for an interactive plot in jupyter notebook\n",
    "iplot(fig)"
   ]
  },
  {
   "cell_type": "code",
   "execution_count": null,
   "metadata": {},
   "outputs": [],
   "source": []
  }
 ],
 "metadata": {
  "kernelspec": {
   "display_name": "Python 3",
   "language": "python",
   "name": "python3"
  },
  "language_info": {
   "codemirror_mode": {
    "name": "ipython",
    "version": 3
   },
   "file_extension": ".py",
   "mimetype": "text/x-python",
   "name": "python",
   "nbconvert_exporter": "python",
   "pygments_lexer": "ipython3",
   "version": "3.7.3"
  }
 },
 "nbformat": 4,
 "nbformat_minor": 2
}
